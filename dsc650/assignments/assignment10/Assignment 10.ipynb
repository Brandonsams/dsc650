{
 "cells": [
  {
   "cell_type": "markdown",
   "metadata": {},
   "source": [
    "# Assignment 10\n",
    "\n",
    "Brandon Sams\n",
    "\n",
    "07Nov2020"
   ]
  },
  {
   "cell_type": "markdown",
   "metadata": {},
   "source": [
    "## Assignment 10.1\n",
    "\n",
    "In the first part of the assignment, you will implement basic text-preprocessing functions in Python. These functions do not need to scale to large text documents and will only need to handle small inputs."
   ]
  },
  {
   "cell_type": "markdown",
   "metadata": {},
   "source": [
    "### Assignment 10.1.a\n",
    "\n",
    "Create a tokenize function that splits a sentence into words. Ensure that your tokenizer removes basic punctuation.\n",
    "\n",
    "```python\n",
    "def tokenize(sentence):\n",
    "    tokens = []\n",
    "    # tokenize the sentence\n",
    "    return tokens\n",
    "```"
   ]
  },
  {
   "cell_type": "code",
   "execution_count": 1,
   "metadata": {},
   "outputs": [],
   "source": [
    "import keras"
   ]
  },
  {
   "cell_type": "code",
   "execution_count": 2,
   "metadata": {},
   "outputs": [],
   "source": [
    "def tokenize(sentence):\n",
    "    tokens = keras.preprocessing.text.text_to_word_sequence(sentence)\n",
    "    return(tokens)"
   ]
  },
  {
   "cell_type": "code",
   "execution_count": 3,
   "metadata": {},
   "outputs": [
    {
     "data": {
      "text/plain": [
       "['the', 'quick', 'brown', 'fox', 'jumped', 'over', 'the', 'lazy', 'dog']"
      ]
     },
     "execution_count": 3,
     "metadata": {},
     "output_type": "execute_result"
    }
   ],
   "source": [
    "tokens = tokenize(\"The quick brown fox jumped over the lazy dog.\")\n",
    "tokens"
   ]
  },
  {
   "cell_type": "markdown",
   "metadata": {},
   "source": [
    "### Assignment 10.1.b\n",
    "\n",
    "Implement an `ngram` function that splits tokens into N-grams. \n",
    "\n",
    "```python\n",
    "def ngram(tokens, n):\n",
    "    ngrams = []\n",
    "    # Create ngrams\n",
    "    return ngrams\n",
    "```"
   ]
  },
  {
   "cell_type": "code",
   "execution_count": 4,
   "metadata": {},
   "outputs": [],
   "source": [
    "def ngram(tokens, n):\n",
    "    ngrams = []\n",
    "    for i in range(len(tokens)-n+1):\n",
    "        ngram = ' '.join(word_list for word_list in tokens[i:i+n])\n",
    "        ngrams.append(ngram)\n",
    "    return(ngrams)"
   ]
  },
  {
   "cell_type": "code",
   "execution_count": 5,
   "metadata": {},
   "outputs": [
    {
     "data": {
      "text/plain": [
       "['the quick brown fox',\n",
       " 'quick brown fox jumped',\n",
       " 'brown fox jumped over',\n",
       " 'fox jumped over the',\n",
       " 'jumped over the lazy',\n",
       " 'over the lazy dog']"
      ]
     },
     "execution_count": 5,
     "metadata": {},
     "output_type": "execute_result"
    }
   ],
   "source": [
    "ngram = ngram(tokens,4)\n",
    "ngram"
   ]
  },
  {
   "cell_type": "markdown",
   "metadata": {},
   "source": [
    "### Assignment 10.1.c\n",
    "\n",
    "Implement an one_hot_encode function to create a vector from a numerical vector from a list of tokens.\n",
    "\n",
    "```python\n",
    "def one_hot_encode(tokens, num_words):\n",
    "    token_index = {}\n",
    "    results = ''\n",
    "    return results\n",
    "```"
   ]
  },
  {
   "cell_type": "code",
   "execution_count": 6,
   "metadata": {},
   "outputs": [],
   "source": [
    "def one_hot_encode(tokens, num_words = len(set(tokens))):\n",
    "    num_words += 1 # Add an extra column, as this method always produces an empty first column\n",
    "    tokenizer = keras.preprocessing.text.Tokenizer(num_words = num_words)\n",
    "    tokenizer.fit_on_texts(tokens)\n",
    "    sequences = tokenizer.texts_to_sequences(tokens)\n",
    "    results = tokenizer.texts_to_matrix(tokens, mode='binary')\n",
    "    results = results[:, 1:] # Remove first column, as it is always zeros\n",
    "    token_index = tokenizer.word_index\n",
    "    return(results)"
   ]
  },
  {
   "cell_type": "code",
   "execution_count": 7,
   "metadata": {},
   "outputs": [
    {
     "data": {
      "text/plain": [
       "array([[1., 0., 0., 0., 0., 0., 0., 0., 0., 0., 0., 0., 0., 0., 0.],\n",
       "       [0., 1., 0., 0., 0., 0., 0., 0., 0., 0., 0., 0., 0., 0., 0.],\n",
       "       [0., 0., 1., 0., 0., 0., 0., 0., 0., 0., 0., 0., 0., 0., 0.],\n",
       "       [0., 0., 0., 1., 0., 0., 0., 0., 0., 0., 0., 0., 0., 0., 0.],\n",
       "       [0., 0., 0., 0., 1., 0., 0., 0., 0., 0., 0., 0., 0., 0., 0.],\n",
       "       [0., 0., 0., 0., 0., 1., 0., 0., 0., 0., 0., 0., 0., 0., 0.],\n",
       "       [1., 0., 0., 0., 0., 0., 0., 0., 0., 0., 0., 0., 0., 0., 0.],\n",
       "       [0., 0., 0., 0., 0., 0., 1., 0., 0., 0., 0., 0., 0., 0., 0.],\n",
       "       [0., 0., 0., 0., 0., 0., 0., 1., 0., 0., 0., 0., 0., 0., 0.]])"
      ]
     },
     "execution_count": 7,
     "metadata": {},
     "output_type": "execute_result"
    }
   ],
   "source": [
    "one_hot_encode(tokens,15)"
   ]
  },
  {
   "cell_type": "code",
   "execution_count": 8,
   "metadata": {},
   "outputs": [
    {
     "data": {
      "text/plain": [
       "array([[1., 0., 0., 0., 0., 0., 0., 0.],\n",
       "       [0., 1., 0., 0., 0., 0., 0., 0.],\n",
       "       [0., 0., 1., 0., 0., 0., 0., 0.],\n",
       "       [0., 0., 0., 1., 0., 0., 0., 0.],\n",
       "       [0., 0., 0., 0., 1., 0., 0., 0.],\n",
       "       [0., 0., 0., 0., 0., 1., 0., 0.],\n",
       "       [1., 0., 0., 0., 0., 0., 0., 0.],\n",
       "       [0., 0., 0., 0., 0., 0., 1., 0.],\n",
       "       [0., 0., 0., 0., 0., 0., 0., 1.]])"
      ]
     },
     "execution_count": 8,
     "metadata": {},
     "output_type": "execute_result"
    }
   ],
   "source": [
    "one_hot_encode(tokens)"
   ]
  },
  {
   "cell_type": "markdown",
   "metadata": {},
   "source": [
    "## Assignment 10.2\n",
    "\n",
    "Using listings 6.16, 6.17, and 6.18 in Deep Learning with Python as a guide, train a sequential model with embeddings on the IMDB data found in data/external/imdb/. Produce the model performance metrics and training and validation accuracy curves within the Jupyter notebook."
   ]
  },
  {
   "cell_type": "code",
   "execution_count": 9,
   "metadata": {},
   "outputs": [],
   "source": [
    "import os\n",
    "import numpy as np\n",
    "\n",
    "imdb_dir = '/home/jovyan/dsc650/data/external/imdb/aclImdb'\n",
    "train_dir = os.path.join(imdb_dir, 'train')\n",
    "\n",
    "labels = []\n",
    "texts = []\n",
    "\n",
    "for label_type in ['neg', 'pos']:\n",
    "    dir_name = os.path.join(train_dir, label_type)\n",
    "    for fname in os.listdir(dir_name):\n",
    "        if fname[-4:] == '.txt':\n",
    "            f = open(os.path.join(dir_name, fname))\n",
    "            texts.append(f.read())\n",
    "            f.close()\n",
    "            if label_type == 'neg':\n",
    "                labels.append(0)\n",
    "            else:\n",
    "                labels.append(1)"
   ]
  },
  {
   "cell_type": "code",
   "execution_count": 10,
   "metadata": {},
   "outputs": [],
   "source": [
    "max_words = 10000\n",
    "embedding_dim = 100\n",
    "maxlen = 100\n",
    "training_samples = 200\n",
    "validation_samples = 10000"
   ]
  },
  {
   "cell_type": "code",
   "execution_count": 11,
   "metadata": {},
   "outputs": [],
   "source": [
    "tokenizer = keras.preprocessing.text.Tokenizer(num_words=max_words)\n",
    "tokenizer.fit_on_texts(texts)\n",
    "sequences = tokenizer.texts_to_sequences(texts)\n",
    "\n",
    "data = keras.preprocessing.sequence.pad_sequences(sequences,maxlen=maxlen)\n",
    "labels = np.asarray(labels)"
   ]
  },
  {
   "cell_type": "code",
   "execution_count": 12,
   "metadata": {},
   "outputs": [],
   "source": [
    "indices = np.arange(data.shape[0])\n",
    "np.random.shuffle(indices)\n",
    "\n",
    "data = data[indices]\n",
    "labels = labels[indices]"
   ]
  },
  {
   "cell_type": "code",
   "execution_count": 13,
   "metadata": {},
   "outputs": [],
   "source": [
    "x_train = data[:training_samples]\n",
    "y_train = labels[:training_samples]\n",
    "x_val = data[training_samples: training_samples + validation_samples]\n",
    "y_val = labels[training_samples: training_samples + validation_samples]"
   ]
  },
  {
   "cell_type": "code",
   "execution_count": 14,
   "metadata": {},
   "outputs": [
    {
     "name": "stdout",
     "output_type": "stream",
     "text": [
      "Model: \"sequential\"\n",
      "_________________________________________________________________\n",
      "Layer (type)                 Output Shape              Param #   \n",
      "=================================================================\n",
      "embedding (Embedding)        (None, 100, 100)          1000000   \n",
      "_________________________________________________________________\n",
      "dense (Dense)                (None, 100, 32)           3232      \n",
      "_________________________________________________________________\n",
      "dense_1 (Dense)              (None, 100, 1)            33        \n",
      "=================================================================\n",
      "Total params: 1,003,265\n",
      "Trainable params: 1,003,265\n",
      "Non-trainable params: 0\n",
      "_________________________________________________________________\n",
      "Epoch 1/10\n",
      "7/7 [==============================] - 1s 189ms/step - loss: 0.6934 - acc: 0.5015 - val_loss: 0.6922 - val_acc: 0.5217\n",
      "Epoch 2/10\n",
      "7/7 [==============================] - 1s 144ms/step - loss: 0.6882 - acc: 0.5917 - val_loss: 0.6917 - val_acc: 0.5234\n",
      "Epoch 3/10\n",
      "7/7 [==============================] - 1s 141ms/step - loss: 0.6839 - acc: 0.6192 - val_loss: 0.6913 - val_acc: 0.5243\n",
      "Epoch 4/10\n",
      "7/7 [==============================] - 1s 136ms/step - loss: 0.6793 - acc: 0.6260 - val_loss: 0.6911 - val_acc: 0.5233\n",
      "Epoch 5/10\n",
      "7/7 [==============================] - 1s 134ms/step - loss: 0.6737 - acc: 0.6319 - val_loss: 0.6910 - val_acc: 0.5241\n",
      "Epoch 6/10\n",
      "7/7 [==============================] - 1s 136ms/step - loss: 0.6676 - acc: 0.6308 - val_loss: 0.6915 - val_acc: 0.5240\n",
      "Epoch 7/10\n",
      "7/7 [==============================] - 1s 137ms/step - loss: 0.6598 - acc: 0.6318 - val_loss: 0.6927 - val_acc: 0.5244\n",
      "Epoch 8/10\n",
      "7/7 [==============================] - 1s 134ms/step - loss: 0.6520 - acc: 0.6310 - val_loss: 0.6949 - val_acc: 0.5230\n",
      "Epoch 9/10\n",
      "7/7 [==============================] - 1s 135ms/step - loss: 0.6446 - acc: 0.6302 - val_loss: 0.6977 - val_acc: 0.5225\n",
      "Epoch 10/10\n",
      "7/7 [==============================] - 1s 133ms/step - loss: 0.6365 - acc: 0.6341 - val_loss: 0.7011 - val_acc: 0.5218\n"
     ]
    }
   ],
   "source": [
    "from keras.models import Sequential\n",
    "from keras.layers import Embedding, Flatten, Dense\n",
    "\n",
    "model = Sequential()\n",
    "model.add(Embedding(max_words, embedding_dim, input_length=maxlen))\n",
    "#model.add(Flatten())\n",
    "model.add(Dense(32, activation='relu'))\n",
    "model.add(Dense(1, activation='sigmoid'))\n",
    "model.summary()\n",
    "\n",
    "model.compile(optimizer='rmsprop',\n",
    "              loss='binary_crossentropy',\n",
    "              metrics=['acc'])\n",
    "history = model.fit(x_train, y_train,\n",
    "                    epochs=10,\n",
    "                    batch_size=32,\n",
    "                    validation_data=(x_val, y_val))"
   ]
  },
  {
   "cell_type": "code",
   "execution_count": 15,
   "metadata": {},
   "outputs": [],
   "source": [
    "test_dir = os.path.join(imdb_dir, 'test')\n",
    "\n",
    "labels = []\n",
    "texts = []\n",
    "\n",
    "for label_type in ['neg', 'pos']:\n",
    "    dir_name = os.path.join(test_dir, label_type)\n",
    "    for fname in sorted(os.listdir(dir_name)):\n",
    "        if fname[-4:] == '.txt':\n",
    "            f = open(os.path.join(dir_name, fname))\n",
    "            texts.append(f.read())\n",
    "            f.close()\n",
    "            if label_type == 'neg':\n",
    "                labels.append(0)\n",
    "            else:\n",
    "                labels.append(1)"
   ]
  },
  {
   "cell_type": "code",
   "execution_count": 16,
   "metadata": {},
   "outputs": [],
   "source": [
    "sequences = tokenizer.texts_to_sequences(texts)\n",
    "x_test = keras.preprocessing.sequence.pad_sequences(sequences, maxlen=maxlen)\n",
    "y_test = np.asarray(labels)"
   ]
  },
  {
   "cell_type": "code",
   "execution_count": 17,
   "metadata": {},
   "outputs": [
    {
     "name": "stdout",
     "output_type": "stream",
     "text": [
      "782/782 [==============================] - 2s 3ms/step - loss: 0.7018 - acc: 0.5206\n"
     ]
    },
    {
     "data": {
      "text/plain": [
       "[0.7017878890037537, 0.5206432938575745]"
      ]
     },
     "execution_count": 17,
     "metadata": {},
     "output_type": "execute_result"
    }
   ],
   "source": [
    "model.evaluate(x_test,y_test)"
   ]
  },
  {
   "cell_type": "code",
   "execution_count": 18,
   "metadata": {},
   "outputs": [
    {
     "data": {
      "image/png": "[encoded data removed]",
      "text/plain": [
       "<Figure size 432x288 with 1 Axes>"
      ]
     },
     "metadata": {
      "needs_background": "light"
     },
     "output_type": "display_data"
    },
    {
     "data": {
      "image/png": "[encoded data removed]",
      "text/plain": [
       "<Figure size 432x288 with 1 Axes>"
      ]
     },
     "metadata": {
      "needs_background": "light"
     },
     "output_type": "display_data"
    }
   ],
   "source": [
    "import matplotlib.pyplot as plt\n",
    "\n",
    "acc = history.history['acc']\n",
    "val_acc = history.history['val_acc']\n",
    "loss = history.history['loss']\n",
    "val_loss = history.history['val_loss']\n",
    "\n",
    "epochs = range(1, len(acc) + 1)\n",
    "\n",
    "plt.plot(epochs, acc, 'bo', label='Training acc')\n",
    "plt.plot(epochs, val_acc, 'b', label='Validation acc')\n",
    "plt.title('Training and validation accuracy')\n",
    "plt.legend()\n",
    "\n",
    "plt.figure()\n",
    "\n",
    "plt.plot(epochs, loss, 'bo', label='Training loss')\n",
    "plt.plot(epochs, val_loss, 'b', label='Validation loss')\n",
    "plt.title('Training and validation loss')\n",
    "plt.legend()\n",
    "\n",
    "plt.show()"
   ]
  },
  {
   "cell_type": "markdown",
   "metadata": {},
   "source": [
    "## Assignment 10.3\n",
    "\n",
    "Using listing 6.27 in Deep Learning with Python as a guide, fit the same data with an LSTM layer. Produce the model performance metrics and training and validation accuracy curves within the Jupyter notebook."
   ]
  },
  {
   "cell_type": "code",
   "execution_count": 19,
   "metadata": {},
   "outputs": [
    {
     "name": "stdout",
     "output_type": "stream",
     "text": [
      "Epoch 1/10\n",
      "2/2 [==============================] - 1s 251ms/step - loss: 0.6928 - acc: 0.5312 - val_loss: 0.6919 - val_acc: 0.5500\n",
      "Epoch 2/10\n",
      "2/2 [==============================] - 0s 78ms/step - loss: 0.6796 - acc: 0.9000 - val_loss: 0.6896 - val_acc: 0.5500\n",
      "Epoch 3/10\n",
      "2/2 [==============================] - 0s 73ms/step - loss: 0.6650 - acc: 0.9625 - val_loss: 0.6899 - val_acc: 0.5250\n",
      "Epoch 4/10\n",
      "2/2 [==============================] - 0s 66ms/step - loss: 0.6440 - acc: 0.9812 - val_loss: 0.6922 - val_acc: 0.5250\n",
      "Epoch 5/10\n",
      "2/2 [==============================] - 0s 71ms/step - loss: 0.6115 - acc: 0.9563 - val_loss: 0.6862 - val_acc: 0.5000\n",
      "Epoch 6/10\n",
      "2/2 [==============================] - 0s 74ms/step - loss: 0.5595 - acc: 0.9875 - val_loss: 0.6898 - val_acc: 0.5250\n",
      "Epoch 7/10\n",
      "2/2 [==============================] - 0s 71ms/step - loss: 0.4636 - acc: 0.9750 - val_loss: 0.8510 - val_acc: 0.4500\n",
      "Epoch 8/10\n",
      "2/2 [==============================] - 0s 76ms/step - loss: 0.3731 - acc: 0.9062 - val_loss: 0.6722 - val_acc: 0.5000\n",
      "Epoch 9/10\n",
      "2/2 [==============================] - 0s 75ms/step - loss: 0.2951 - acc: 0.9937 - val_loss: 0.6594 - val_acc: 0.6500\n",
      "Epoch 10/10\n",
      "2/2 [==============================] - 0s 71ms/step - loss: 0.2323 - acc: 1.0000 - val_loss: 0.7852 - val_acc: 0.6250\n"
     ]
    }
   ],
   "source": [
    "from keras.layers import LSTM\n",
    "\n",
    "model = Sequential()\n",
    "model.add(Embedding(max_words, embedding_dim, input_length=maxlen))\n",
    "model.add(LSTM(32))\n",
    "model.add(Dense(1, activation='sigmoid'))\n",
    "\n",
    "model.compile(optimizer='rmsprop',\n",
    "              loss='binary_crossentropy',\n",
    "              metrics=['acc'])\n",
    "history = model.fit(x_train, y_train,\n",
    "                    epochs=10,\n",
    "                    batch_size=128,\n",
    "                    validation_split=0.2)"
   ]
  },
  {
   "cell_type": "code",
   "execution_count": 20,
   "metadata": {},
   "outputs": [
    {
     "name": "stdout",
     "output_type": "stream",
     "text": [
      "782/782 [==============================] - 15s 20ms/step - loss: 0.6727 - acc: 0.6356\n"
     ]
    },
    {
     "data": {
      "text/plain": [
       "[0.672665536403656, 0.6355599761009216]"
      ]
     },
     "execution_count": 20,
     "metadata": {},
     "output_type": "execute_result"
    }
   ],
   "source": [
    "model.evaluate(x_test,y_test)"
   ]
  },
  {
   "cell_type": "code",
   "execution_count": 21,
   "metadata": {},
   "outputs": [
    {
     "data": {
      "image/png": "[encoded data removed]",
      "text/plain": [
       "<Figure size 432x288 with 1 Axes>"
      ]
     },
     "metadata": {
      "needs_background": "light"
     },
     "output_type": "display_data"
    },
    {
     "data": {
      "image/png": "[encoded data removed]",
      "text/plain": [
       "<Figure size 432x288 with 1 Axes>"
      ]
     },
     "metadata": {
      "needs_background": "light"
     },
     "output_type": "display_data"
    }
   ],
   "source": [
    "import matplotlib.pyplot as plt\n",
    "\n",
    "acc = history.history['acc']\n",
    "val_acc = history.history['val_acc']\n",
    "loss = history.history['loss']\n",
    "val_loss = history.history['val_loss']\n",
    "\n",
    "epochs = range(1, len(acc) + 1)\n",
    "\n",
    "plt.plot(epochs, acc, 'bo', label='Training acc')\n",
    "plt.plot(epochs, val_acc, 'b', label='Validation acc')\n",
    "plt.title('Training and validation accuracy')\n",
    "plt.legend()\n",
    "\n",
    "plt.figure()\n",
    "\n",
    "plt.plot(epochs, loss, 'bo', label='Training loss')\n",
    "plt.plot(epochs, val_loss, 'b', label='Validation loss')\n",
    "plt.title('Training and validation loss')\n",
    "plt.legend()\n",
    "\n",
    "plt.show()"
   ]
  },
  {
   "cell_type": "markdown",
   "metadata": {},
   "source": [
    "## Assignment 10.4\n",
    "\n",
    "Using listing 6.46 in Deep Learning with Python as a guide, fit the same data with a simple 1D convnet. Produce the model performance metrics and training and validation accuracy curves within the Jupyter notebook."
   ]
  },
  {
   "cell_type": "code",
   "execution_count": 22,
   "metadata": {},
   "outputs": [
    {
     "name": "stdout",
     "output_type": "stream",
     "text": [
      "Model: \"sequential_2\"\n",
      "_________________________________________________________________\n",
      "Layer (type)                 Output Shape              Param #   \n",
      "=================================================================\n",
      "embedding_2 (Embedding)      (None, 100, 128)          1280000   \n",
      "_________________________________________________________________\n",
      "conv1d (Conv1D)              (None, 94, 32)            28704     \n",
      "_________________________________________________________________\n",
      "max_pooling1d (MaxPooling1D) (None, 18, 32)            0         \n",
      "_________________________________________________________________\n",
      "conv1d_1 (Conv1D)            (None, 12, 32)            7200      \n",
      "_________________________________________________________________\n",
      "flatten (Flatten)            (None, 384)               0         \n",
      "_________________________________________________________________\n",
      "dense_3 (Dense)              (None, 1)                 385       \n",
      "=================================================================\n",
      "Total params: 1,316,289\n",
      "Trainable params: 1,316,289\n",
      "Non-trainable params: 0\n",
      "_________________________________________________________________\n",
      "Epoch 1/100\n",
      "2/2 [==============================] - 0s 67ms/step - loss: 6.8438 - acc: 0.5000 - val_loss: 6.9535 - val_acc: 0.4250\n",
      "Epoch 2/100\n",
      "2/2 [==============================] - 0s 34ms/step - loss: 5.4557 - acc: 0.5000 - val_loss: 5.6194 - val_acc: 0.4250\n",
      "Epoch 3/100\n",
      "2/2 [==============================] - 0s 30ms/step - loss: 4.2344 - acc: 0.5000 - val_loss: 3.9021 - val_acc: 0.4250\n",
      "Epoch 4/100\n",
      "2/2 [==============================] - 0s 28ms/step - loss: 3.6024 - acc: 0.5000 - val_loss: 3.8304 - val_acc: 0.4250\n",
      "Epoch 5/100\n",
      "2/2 [==============================] - 0s 26ms/step - loss: 3.5249 - acc: 0.5000 - val_loss: 3.7911 - val_acc: 0.4250\n",
      "Epoch 6/100\n",
      "2/2 [==============================] - 0s 27ms/step - loss: 3.4930 - acc: 0.5000 - val_loss: 3.5780 - val_acc: 0.4250\n",
      "Epoch 7/100\n",
      "2/2 [==============================] - 0s 30ms/step - loss: 3.4108 - acc: 0.5000 - val_loss: 3.4482 - val_acc: 0.4250\n",
      "Epoch 8/100\n",
      "2/2 [==============================] - 0s 26ms/step - loss: 3.0299 - acc: 0.5000 - val_loss: 2.8126 - val_acc: 0.4250\n",
      "Epoch 9/100\n",
      "2/2 [==============================] - 0s 25ms/step - loss: 2.4914 - acc: 0.5000 - val_loss: 2.7223 - val_acc: 0.4250\n",
      "Epoch 10/100\n",
      "2/2 [==============================] - 0s 26ms/step - loss: 2.2966 - acc: 0.5000 - val_loss: 2.3712 - val_acc: 0.4250\n",
      "Epoch 11/100\n",
      "2/2 [==============================] - 0s 24ms/step - loss: 2.0855 - acc: 0.5000 - val_loss: 2.3233 - val_acc: 0.4250\n",
      "Epoch 12/100\n",
      "2/2 [==============================] - 0s 25ms/step - loss: 1.8847 - acc: 0.5000 - val_loss: 1.9367 - val_acc: 0.4250\n",
      "Epoch 13/100\n",
      "2/2 [==============================] - 0s 29ms/step - loss: 1.6212 - acc: 0.5000 - val_loss: 1.9031 - val_acc: 0.4250\n",
      "Epoch 14/100\n",
      "2/2 [==============================] - 0s 25ms/step - loss: 1.5432 - acc: 0.5000 - val_loss: 1.7838 - val_acc: 0.4250\n",
      "Epoch 15/100\n",
      "2/2 [==============================] - 0s 25ms/step - loss: 1.3778 - acc: 0.5000 - val_loss: 1.7716 - val_acc: 0.4250\n",
      "Epoch 16/100\n",
      "2/2 [==============================] - 0s 26ms/step - loss: 1.3054 - acc: 0.5000 - val_loss: 1.7473 - val_acc: 0.4250\n",
      "Epoch 17/100\n",
      "2/2 [==============================] - 0s 26ms/step - loss: 1.2635 - acc: 0.5000 - val_loss: 1.7362 - val_acc: 0.4250\n",
      "Epoch 18/100\n",
      "2/2 [==============================] - 0s 22ms/step - loss: 1.2478 - acc: 0.5000 - val_loss: 1.7233 - val_acc: 0.4250\n",
      "Epoch 19/100\n",
      "2/2 [==============================] - 0s 25ms/step - loss: 1.2320 - acc: 0.5000 - val_loss: 1.7104 - val_acc: 0.4250\n",
      "Epoch 20/100\n",
      "2/2 [==============================] - 0s 27ms/step - loss: 1.2152 - acc: 0.5000 - val_loss: 1.6955 - val_acc: 0.4250\n",
      "Epoch 21/100\n",
      "2/2 [==============================] - 0s 25ms/step - loss: 1.1975 - acc: 0.5000 - val_loss: 1.6821 - val_acc: 0.4250\n",
      "Epoch 22/100\n",
      "2/2 [==============================] - 0s 24ms/step - loss: 1.1813 - acc: 0.5000 - val_loss: 1.6677 - val_acc: 0.4250\n",
      "Epoch 23/100\n",
      "2/2 [==============================] - 0s 32ms/step - loss: 1.1649 - acc: 0.5000 - val_loss: 1.6541 - val_acc: 0.4250\n",
      "Epoch 24/100\n",
      "2/2 [==============================] - 0s 22ms/step - loss: 1.1495 - acc: 0.5000 - val_loss: 1.6382 - val_acc: 0.4250\n",
      "Epoch 25/100\n",
      "2/2 [==============================] - 0s 28ms/step - loss: 1.1326 - acc: 0.5000 - val_loss: 1.6207 - val_acc: 0.4250\n",
      "Epoch 26/100\n",
      "2/2 [==============================] - 0s 25ms/step - loss: 1.1153 - acc: 0.5000 - val_loss: 1.6040 - val_acc: 0.4250\n",
      "Epoch 27/100\n",
      "2/2 [==============================] - 0s 23ms/step - loss: 1.0986 - acc: 0.5000 - val_loss: 1.5879 - val_acc: 0.4250\n",
      "Epoch 28/100\n",
      "2/2 [==============================] - 0s 26ms/step - loss: 1.0820 - acc: 0.5000 - val_loss: 1.5685 - val_acc: 0.4250\n",
      "Epoch 29/100\n",
      "2/2 [==============================] - 0s 26ms/step - loss: 1.0641 - acc: 0.5000 - val_loss: 1.5488 - val_acc: 0.4250\n",
      "Epoch 30/100\n",
      "2/2 [==============================] - 0s 27ms/step - loss: 1.0462 - acc: 0.5000 - val_loss: 1.5321 - val_acc: 0.4250\n",
      "Epoch 31/100\n",
      "2/2 [==============================] - 0s 26ms/step - loss: 1.0298 - acc: 0.5000 - val_loss: 1.5115 - val_acc: 0.4250\n",
      "Epoch 32/100\n",
      "2/2 [==============================] - 0s 33ms/step - loss: 1.0111 - acc: 0.5000 - val_loss: 1.4883 - val_acc: 0.4250\n",
      "Epoch 33/100\n",
      "2/2 [==============================] - 0s 34ms/step - loss: 0.9915 - acc: 0.5000 - val_loss: 1.4714 - val_acc: 0.4250\n",
      "Epoch 34/100\n",
      "2/2 [==============================] - 0s 31ms/step - loss: 0.9753 - acc: 0.5000 - val_loss: 1.4512 - val_acc: 0.4250\n",
      "Epoch 35/100\n",
      "2/2 [==============================] - 0s 27ms/step - loss: 0.9579 - acc: 0.5000 - val_loss: 1.4338 - val_acc: 0.4250\n",
      "Epoch 36/100\n",
      "2/2 [==============================] - 0s 29ms/step - loss: 0.9417 - acc: 0.5000 - val_loss: 1.4115 - val_acc: 0.4250\n",
      "Epoch 37/100\n",
      "2/2 [==============================] - 0s 22ms/step - loss: 0.9229 - acc: 0.5000 - val_loss: 1.3883 - val_acc: 0.4250\n",
      "Epoch 38/100\n",
      "2/2 [==============================] - 0s 29ms/step - loss: 0.9040 - acc: 0.5000 - val_loss: 1.3653 - val_acc: 0.4250\n",
      "Epoch 39/100\n",
      "2/2 [==============================] - 0s 26ms/step - loss: 0.8851 - acc: 0.5000 - val_loss: 1.3364 - val_acc: 0.4250\n",
      "Epoch 40/100\n",
      "2/2 [==============================] - 0s 28ms/step - loss: 0.8639 - acc: 0.5000 - val_loss: 1.3131 - val_acc: 0.4250\n",
      "Epoch 41/100\n",
      "2/2 [==============================] - 0s 26ms/step - loss: 0.8447 - acc: 0.5000 - val_loss: 1.2877 - val_acc: 0.4250\n",
      "Epoch 42/100\n",
      "2/2 [==============================] - 0s 30ms/step - loss: 0.8245 - acc: 0.5000 - val_loss: 1.2652 - val_acc: 0.4250\n",
      "Epoch 43/100\n",
      "2/2 [==============================] - 0s 26ms/step - loss: 0.8061 - acc: 0.5000 - val_loss: 1.2396 - val_acc: 0.4250\n",
      "Epoch 44/100\n",
      "2/2 [==============================] - 0s 23ms/step - loss: 0.7863 - acc: 0.5000 - val_loss: 1.2161 - val_acc: 0.4250\n",
      "Epoch 45/100\n",
      "2/2 [==============================] - 0s 26ms/step - loss: 0.7676 - acc: 0.5000 - val_loss: 1.1953 - val_acc: 0.4250\n",
      "Epoch 46/100\n",
      "2/2 [==============================] - 0s 28ms/step - loss: 0.7506 - acc: 0.5000 - val_loss: 1.1746 - val_acc: 0.4250\n",
      "Epoch 47/100\n",
      "2/2 [==============================] - 0s 30ms/step - loss: 0.7335 - acc: 0.5000 - val_loss: 1.1508 - val_acc: 0.4250\n",
      "Epoch 48/100\n",
      "2/2 [==============================] - 0s 25ms/step - loss: 0.7146 - acc: 0.5000 - val_loss: 1.1274 - val_acc: 0.4250\n",
      "Epoch 49/100\n",
      "2/2 [==============================] - 0s 25ms/step - loss: 0.6964 - acc: 0.5000 - val_loss: 1.1070 - val_acc: 0.4250\n",
      "Epoch 50/100\n",
      "2/2 [==============================] - 0s 26ms/step - loss: 0.6798 - acc: 0.5000 - val_loss: 1.0916 - val_acc: 0.4250\n",
      "Epoch 51/100\n",
      "2/2 [==============================] - 0s 27ms/step - loss: 0.6650 - acc: 0.5000 - val_loss: 1.0714 - val_acc: 0.4250\n",
      "Epoch 52/100\n",
      "2/2 [==============================] - 0s 30ms/step - loss: 0.6486 - acc: 0.5000 - val_loss: 1.0514 - val_acc: 0.4250\n",
      "Epoch 53/100\n",
      "2/2 [==============================] - 0s 24ms/step - loss: 0.6324 - acc: 0.5000 - val_loss: 1.0349 - val_acc: 0.4250\n",
      "Epoch 54/100\n",
      "2/2 [==============================] - 0s 25ms/step - loss: 0.6173 - acc: 0.5000 - val_loss: 1.0134 - val_acc: 0.4250\n"
     ]
    },
    {
     "name": "stdout",
     "output_type": "stream",
     "text": [
      "Epoch 55/100\n",
      "2/2 [==============================] - 0s 26ms/step - loss: 0.6005 - acc: 0.5000 - val_loss: 0.9926 - val_acc: 0.4250\n",
      "Epoch 56/100\n",
      "2/2 [==============================] - 0s 25ms/step - loss: 0.5841 - acc: 0.5000 - val_loss: 0.9728 - val_acc: 0.4250\n",
      "Epoch 57/100\n",
      "2/2 [==============================] - 0s 24ms/step - loss: 0.5682 - acc: 0.5000 - val_loss: 0.9557 - val_acc: 0.4250\n",
      "Epoch 58/100\n",
      "2/2 [==============================] - 0s 25ms/step - loss: 0.5533 - acc: 0.5063 - val_loss: 0.9418 - val_acc: 0.4250\n",
      "Epoch 59/100\n",
      "2/2 [==============================] - 0s 25ms/step - loss: 0.5396 - acc: 0.5063 - val_loss: 0.9240 - val_acc: 0.4250\n",
      "Epoch 60/100\n",
      "2/2 [==============================] - 0s 27ms/step - loss: 0.5251 - acc: 0.5125 - val_loss: 0.9113 - val_acc: 0.4250\n",
      "Epoch 61/100\n",
      "2/2 [==============================] - 0s 25ms/step - loss: 0.5116 - acc: 0.5250 - val_loss: 0.8914 - val_acc: 0.4250\n",
      "Epoch 62/100\n",
      "2/2 [==============================] - 0s 31ms/step - loss: 0.4966 - acc: 0.5500 - val_loss: 0.8816 - val_acc: 0.4250\n",
      "Epoch 63/100\n",
      "2/2 [==============================] - 0s 25ms/step - loss: 0.4846 - acc: 0.5688 - val_loss: 0.8674 - val_acc: 0.4250\n",
      "Epoch 64/100\n",
      "2/2 [==============================] - 0s 25ms/step - loss: 0.4713 - acc: 0.6062 - val_loss: 0.8464 - val_acc: 0.4250\n",
      "Epoch 65/100\n",
      "2/2 [==============================] - 0s 25ms/step - loss: 0.4563 - acc: 0.7250 - val_loss: 0.8345 - val_acc: 0.4250\n",
      "Epoch 66/100\n",
      "2/2 [==============================] - 0s 25ms/step - loss: 0.4441 - acc: 0.7750 - val_loss: 0.8220 - val_acc: 0.4250\n",
      "Epoch 67/100\n",
      "2/2 [==============================] - 0s 23ms/step - loss: 0.4318 - acc: 0.8062 - val_loss: 0.8104 - val_acc: 0.4250\n",
      "Epoch 68/100\n",
      "2/2 [==============================] - 0s 26ms/step - loss: 0.4199 - acc: 0.8875 - val_loss: 0.7967 - val_acc: 0.4250\n",
      "Epoch 69/100\n",
      "2/2 [==============================] - 0s 24ms/step - loss: 0.4079 - acc: 0.9250 - val_loss: 0.7937 - val_acc: 0.4250\n",
      "Epoch 70/100\n",
      "2/2 [==============================] - 0s 25ms/step - loss: 0.3981 - acc: 0.9375 - val_loss: 0.7847 - val_acc: 0.4250\n",
      "Epoch 71/100\n",
      "2/2 [==============================] - 0s 25ms/step - loss: 0.3872 - acc: 0.9688 - val_loss: 0.7750 - val_acc: 0.4250\n",
      "Epoch 72/100\n",
      "2/2 [==============================] - 0s 28ms/step - loss: 0.3759 - acc: 0.9812 - val_loss: 0.7703 - val_acc: 0.4250\n",
      "Epoch 73/100\n",
      "2/2 [==============================] - 0s 26ms/step - loss: 0.3656 - acc: 0.9812 - val_loss: 0.7614 - val_acc: 0.4250\n",
      "Epoch 74/100\n",
      "2/2 [==============================] - 0s 25ms/step - loss: 0.3546 - acc: 0.9812 - val_loss: 0.7528 - val_acc: 0.4250\n",
      "Epoch 75/100\n",
      "2/2 [==============================] - 0s 26ms/step - loss: 0.3444 - acc: 0.9875 - val_loss: 0.7554 - val_acc: 0.4250\n",
      "Epoch 76/100\n",
      "2/2 [==============================] - 0s 26ms/step - loss: 0.3352 - acc: 0.9875 - val_loss: 0.7492 - val_acc: 0.4250\n",
      "Epoch 77/100\n",
      "2/2 [==============================] - 0s 26ms/step - loss: 0.3247 - acc: 0.9875 - val_loss: 0.7421 - val_acc: 0.4250\n",
      "Epoch 78/100\n",
      "2/2 [==============================] - 0s 21ms/step - loss: 0.3143 - acc: 0.9875 - val_loss: 0.7418 - val_acc: 0.4250\n",
      "Epoch 79/100\n",
      "2/2 [==============================] - 0s 25ms/step - loss: 0.3045 - acc: 0.9875 - val_loss: 0.7353 - val_acc: 0.4250\n",
      "Epoch 80/100\n",
      "2/2 [==============================] - 0s 23ms/step - loss: 0.2941 - acc: 0.9875 - val_loss: 0.7361 - val_acc: 0.4000\n",
      "Epoch 81/100\n",
      "2/2 [==============================] - 0s 24ms/step - loss: 0.2845 - acc: 0.9875 - val_loss: 0.7321 - val_acc: 0.4000\n",
      "Epoch 82/100\n",
      "2/2 [==============================] - 0s 27ms/step - loss: 0.2742 - acc: 0.9875 - val_loss: 0.7250 - val_acc: 0.3750\n",
      "Epoch 83/100\n",
      "2/2 [==============================] - 0s 26ms/step - loss: 0.2637 - acc: 0.9937 - val_loss: 0.7277 - val_acc: 0.3750\n",
      "Epoch 84/100\n",
      "2/2 [==============================] - 0s 30ms/step - loss: 0.2538 - acc: 0.9937 - val_loss: 0.7270 - val_acc: 0.3750\n",
      "Epoch 85/100\n",
      "2/2 [==============================] - 0s 27ms/step - loss: 0.2434 - acc: 0.9937 - val_loss: 0.7242 - val_acc: 0.3750\n",
      "Epoch 86/100\n",
      "2/2 [==============================] - 0s 26ms/step - loss: 0.2330 - acc: 1.0000 - val_loss: 0.7186 - val_acc: 0.3750\n",
      "Epoch 87/100\n",
      "2/2 [==============================] - 0s 25ms/step - loss: 0.2220 - acc: 1.0000 - val_loss: 0.7208 - val_acc: 0.3500\n",
      "Epoch 88/100\n",
      "2/2 [==============================] - 0s 27ms/step - loss: 0.2115 - acc: 1.0000 - val_loss: 0.7158 - val_acc: 0.4000\n",
      "Epoch 89/100\n",
      "2/2 [==============================] - 0s 25ms/step - loss: 0.2005 - acc: 1.0000 - val_loss: 0.7129 - val_acc: 0.4500\n",
      "Epoch 90/100\n",
      "2/2 [==============================] - 0s 26ms/step - loss: 0.1900 - acc: 1.0000 - val_loss: 0.7130 - val_acc: 0.4500\n",
      "Epoch 91/100\n",
      "2/2 [==============================] - 0s 26ms/step - loss: 0.1793 - acc: 1.0000 - val_loss: 0.7117 - val_acc: 0.4750\n",
      "Epoch 92/100\n",
      "2/2 [==============================] - 0s 149ms/step - loss: 0.1685 - acc: 1.0000 - val_loss: 0.7125 - val_acc: 0.4500\n",
      "Epoch 93/100\n",
      "2/2 [==============================] - 0s 25ms/step - loss: 0.1586 - acc: 1.0000 - val_loss: 0.7069 - val_acc: 0.5000\n",
      "Epoch 94/100\n",
      "2/2 [==============================] - 0s 27ms/step - loss: 0.1479 - acc: 1.0000 - val_loss: 0.7093 - val_acc: 0.5000\n",
      "Epoch 95/100\n",
      "2/2 [==============================] - 0s 29ms/step - loss: 0.1372 - acc: 1.0000 - val_loss: 0.7111 - val_acc: 0.5250\n",
      "Epoch 96/100\n",
      "2/2 [==============================] - 0s 25ms/step - loss: 0.1267 - acc: 1.0000 - val_loss: 0.7119 - val_acc: 0.5500\n",
      "Epoch 97/100\n",
      "2/2 [==============================] - 0s 27ms/step - loss: 0.1164 - acc: 1.0000 - val_loss: 0.7136 - val_acc: 0.4500\n",
      "Epoch 98/100\n",
      "2/2 [==============================] - 0s 26ms/step - loss: 0.1069 - acc: 1.0000 - val_loss: 0.7142 - val_acc: 0.4750\n",
      "Epoch 99/100\n",
      "2/2 [==============================] - 0s 32ms/step - loss: 0.0975 - acc: 1.0000 - val_loss: 0.7140 - val_acc: 0.5000\n",
      "Epoch 100/100\n",
      "2/2 [==============================] - 0s 26ms/step - loss: 0.0883 - acc: 1.0000 - val_loss: 0.7128 - val_acc: 0.5250\n"
     ]
    }
   ],
   "source": [
    "from keras.models import Sequential\n",
    "from keras import layers\n",
    "from keras.optimizers import RMSprop\n",
    "\n",
    "max_features = 10000\n",
    "max_len = 100\n",
    "\n",
    "model = Sequential()\n",
    "model.add(layers.Embedding(max_features, 128, input_length=max_len))\n",
    "model.add(layers.Conv1D(32, 7, activation='relu'))\n",
    "model.add(layers.MaxPooling1D(5))\n",
    "model.add(layers.Conv1D(32, 7, activation='relu'))\n",
    "model.add(layers.Flatten())\n",
    "model.add(layers.Dense(1))\n",
    "\n",
    "model.summary()\n",
    "\n",
    "model.compile(optimizer=RMSprop(lr=1e-4),\n",
    "              loss='binary_crossentropy',\n",
    "              metrics=['acc'])\n",
    "history = model.fit(x_train, y_train,\n",
    "                    epochs=100,\n",
    "                    batch_size=128,\n",
    "                    validation_split=0.2)"
   ]
  },
  {
   "cell_type": "code",
   "execution_count": 23,
   "metadata": {},
   "outputs": [
    {
     "name": "stdout",
     "output_type": "stream",
     "text": [
      "782/782 [==============================] - 3s 3ms/step - loss: 0.6915 - acc: 0.5309\n"
     ]
    },
    {
     "data": {
      "text/plain": [
       "[0.691527783870697, 0.5309200286865234]"
      ]
     },
     "execution_count": 23,
     "metadata": {},
     "output_type": "execute_result"
    }
   ],
   "source": [
    "model.evaluate(x_test,y_test)"
   ]
  },
  {
   "cell_type": "code",
   "execution_count": 24,
   "metadata": {},
   "outputs": [
    {
     "data": {
      "image/png": "[encoded data removed]",
      "text/plain": [
       "<Figure size 432x288 with 1 Axes>"
      ]
     },
     "metadata": {
      "needs_background": "light"
     },
     "output_type": "display_data"
    },
    {
     "data": {
      "image/png": "[encoded data removed]",
      "text/plain": [
       "<Figure size 432x288 with 1 Axes>"
      ]
     },
     "metadata": {
      "needs_background": "light"
     },
     "output_type": "display_data"
    }
   ],
   "source": [
    "import matplotlib.pyplot as plt\n",
    "\n",
    "acc = history.history['acc']\n",
    "val_acc = history.history['val_acc']\n",
    "loss = history.history['loss']\n",
    "val_loss = history.history['val_loss']\n",
    "\n",
    "epochs = range(1, len(acc) + 1)\n",
    "\n",
    "plt.plot(epochs, acc, 'bo', label='Training acc')\n",
    "plt.plot(epochs, val_acc, 'b', label='Validation acc')\n",
    "plt.title('Training and validation accuracy')\n",
    "plt.legend()\n",
    "\n",
    "plt.figure()\n",
    "\n",
    "plt.plot(epochs, loss, 'bo', label='Training loss')\n",
    "plt.plot(epochs, val_loss, 'b', label='Validation loss')\n",
    "plt.title('Training and validation loss')\n",
    "plt.legend()\n",
    "\n",
    "plt.show()"
   ]
  },
  {
   "cell_type": "code",
   "execution_count": null,
   "metadata": {},
   "outputs": [],
   "source": []
  }
 ],
 "metadata": {
  "kernelspec": {
   "display_name": "Python 3",
   "language": "python",
   "name": "python3"
  },
  "language_info": {
   "codemirror_mode": {
    "name": "ipython",
    "version": 3
   },
   "file_extension": ".py",
   "mimetype": "text/x-python",
   "name": "python",
   "nbconvert_exporter": "python",
   "pygments_lexer": "ipython3",
   "version": "3.8.3"
  }
 },
 "nbformat": 4,
 "nbformat_minor": 4
}
