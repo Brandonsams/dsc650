{
 "cells": [
  {
   "cell_type": "markdown",
   "metadata": {},
   "source": [
    "# Assignment 10\n",
    "\n",
    "Brandon Sams\n",
    "\n",
    "07Nov2020"
   ]
  },
  {
   "cell_type": "markdown",
   "metadata": {},
   "source": [
    "## Assignment 10.1\n",
    "\n",
    "In the first part of the assignment, you will implement basic text-preprocessing functions in Python. These functions do not need to scale to large text documents and will only need to handle small inputs."
   ]
  },
  {
   "cell_type": "markdown",
   "metadata": {},
   "source": [
    "### Assignment 10.1.a\n",
    "\n",
    "Create a tokenize function that splits a sentence into words. Ensure that your tokenizer removes basic punctuation.\n",
    "\n",
    "```python\n",
    "def tokenize(sentence):\n",
    "    tokens = []\n",
    "    # tokenize the sentence\n",
    "    return tokens\n",
    "```"
   ]
  },
  {
   "cell_type": "code",
   "execution_count": 1,
   "metadata": {},
   "outputs": [],
   "source": [
    "import keras"
   ]
  },
  {
   "cell_type": "code",
   "execution_count": 2,
   "metadata": {},
   "outputs": [],
   "source": [
    "def tokenize(sentence):\n",
    "    tokens = keras.preprocessing.text.text_to_word_sequence(sentence)\n",
    "    return(tokens)"
   ]
  },
  {
   "cell_type": "code",
   "execution_count": 3,
   "metadata": {},
   "outputs": [
    {
     "data": {
      "text/plain": [
       "['the', 'quick', 'brown', 'fox', 'jumped', 'over', 'the', 'lazy', 'dog']"
      ]
     },
     "execution_count": 3,
     "metadata": {},
     "output_type": "execute_result"
    }
   ],
   "source": [
    "tokens = tokenize(\"The quick brown fox jumped over the lazy dog.\")\n",
    "tokens"
   ]
  },
  {
   "cell_type": "markdown",
   "metadata": {},
   "source": [
    "### Assignment 10.1.b\n",
    "\n",
    "Implement an `ngram` function that splits tokens into N-grams. \n",
    "\n",
    "```python\n",
    "def ngram(tokens, n):\n",
    "    ngrams = []\n",
    "    # Create ngrams\n",
    "    return ngrams\n",
    "```"
   ]
  },
  {
   "cell_type": "code",
   "execution_count": 4,
   "metadata": {},
   "outputs": [],
   "source": [
    "def ngram(tokens, n):\n",
    "    ngrams = []\n",
    "    for i in range(len(tokens)-n+1):\n",
    "        ngram = ' '.join(word_list for word_list in tokens[i:i+n])\n",
    "        ngrams.append(ngram)\n",
    "    return(ngrams)"
   ]
  },
  {
   "cell_type": "code",
   "execution_count": 5,
   "metadata": {},
   "outputs": [
    {
     "data": {
      "text/plain": [
       "['the quick brown fox',\n",
       " 'quick brown fox jumped',\n",
       " 'brown fox jumped over',\n",
       " 'fox jumped over the',\n",
       " 'jumped over the lazy',\n",
       " 'over the lazy dog']"
      ]
     },
     "execution_count": 5,
     "metadata": {},
     "output_type": "execute_result"
    }
   ],
   "source": [
    "ngram = ngram(tokens,4)\n",
    "ngram"
   ]
  },
  {
   "cell_type": "markdown",
   "metadata": {},
   "source": [
    "### Assignment 10.1.c\n",
    "\n",
    "Implement an one_hot_encode function to create a vector from a numerical vector from a list of tokens.\n",
    "\n",
    "```python\n",
    "def one_hot_encode(tokens, num_words):\n",
    "    token_index = {}\n",
    "    results = ''\n",
    "    return results\n",
    "```"
   ]
  },
  {
   "cell_type": "code",
   "execution_count": 6,
   "metadata": {},
   "outputs": [],
   "source": [
    "def one_hot_encode(tokens, num_words = len(set(tokens))):\n",
    "    num_words += 1 # Add an extra column, as this method always produces an empty first column\n",
    "    tokenizer = keras.preprocessing.text.Tokenizer(num_words = num_words)\n",
    "    tokenizer.fit_on_texts(tokens)\n",
    "    sequences = tokenizer.texts_to_sequences(tokens)\n",
    "    results = tokenizer.texts_to_matrix(tokens, mode='binary')\n",
    "    results = results[:, 1:] # Remove first column, as it is always zeros\n",
    "    token_index = tokenizer.word_index\n",
    "    return(results)"
   ]
  },
  {
   "cell_type": "code",
   "execution_count": 7,
   "metadata": {},
   "outputs": [
    {
     "data": {
      "text/plain": [
       "array([[1., 0., 0., 0., 0., 0., 0., 0., 0., 0., 0., 0., 0., 0., 0.],\n",
       "       [0., 1., 0., 0., 0., 0., 0., 0., 0., 0., 0., 0., 0., 0., 0.],\n",
       "       [0., 0., 1., 0., 0., 0., 0., 0., 0., 0., 0., 0., 0., 0., 0.],\n",
       "       [0., 0., 0., 1., 0., 0., 0., 0., 0., 0., 0., 0., 0., 0., 0.],\n",
       "       [0., 0., 0., 0., 1., 0., 0., 0., 0., 0., 0., 0., 0., 0., 0.],\n",
       "       [0., 0., 0., 0., 0., 1., 0., 0., 0., 0., 0., 0., 0., 0., 0.],\n",
       "       [1., 0., 0., 0., 0., 0., 0., 0., 0., 0., 0., 0., 0., 0., 0.],\n",
       "       [0., 0., 0., 0., 0., 0., 1., 0., 0., 0., 0., 0., 0., 0., 0.],\n",
       "       [0., 0., 0., 0., 0., 0., 0., 1., 0., 0., 0., 0., 0., 0., 0.]])"
      ]
     },
     "execution_count": 7,
     "metadata": {},
     "output_type": "execute_result"
    }
   ],
   "source": [
    "one_hot_encode(tokens,15)"
   ]
  },
  {
   "cell_type": "code",
   "execution_count": 8,
   "metadata": {},
   "outputs": [
    {
     "data": {
      "text/plain": [
       "array([[1., 0., 0., 0., 0., 0., 0., 0.],\n",
       "       [0., 1., 0., 0., 0., 0., 0., 0.],\n",
       "       [0., 0., 1., 0., 0., 0., 0., 0.],\n",
       "       [0., 0., 0., 1., 0., 0., 0., 0.],\n",
       "       [0., 0., 0., 0., 1., 0., 0., 0.],\n",
       "       [0., 0., 0., 0., 0., 1., 0., 0.],\n",
       "       [1., 0., 0., 0., 0., 0., 0., 0.],\n",
       "       [0., 0., 0., 0., 0., 0., 1., 0.],\n",
       "       [0., 0., 0., 0., 0., 0., 0., 1.]])"
      ]
     },
     "execution_count": 8,
     "metadata": {},
     "output_type": "execute_result"
    }
   ],
   "source": [
    "one_hot_encode(tokens)"
   ]
  },
  {
   "cell_type": "markdown",
   "metadata": {},
   "source": [
    "## Assignment 10.2\n",
    "\n",
    "Using listings 6.16, 6.17, and 6.18 in Deep Learning with Python as a guide, train a sequential model with embeddings on the IMDB data found in data/external/imdb/. Produce the model performance metrics and training and validation accuracy curves within the Jupyter notebook."
   ]
  },
  {
   "cell_type": "code",
   "execution_count": 9,
   "metadata": {},
   "outputs": [],
   "source": [
    "import os\n",
    "import numpy as np\n",
    "\n",
    "imdb_dir = '/home/jovyan/dsc650/data/external/imdb/aclImdb'\n",
    "train_dir = os.path.join(imdb_dir, 'train')\n",
    "\n",
    "labels = []\n",
    "texts = []\n",
    "\n",
    "for label_type in ['neg', 'pos']:\n",
    "    dir_name = os.path.join(train_dir, label_type)\n",
    "    for fname in os.listdir(dir_name):\n",
    "        if fname[-4:] == '.txt':\n",
    "            f = open(os.path.join(dir_name, fname))\n",
    "            texts.append(f.read())\n",
    "            f.close()\n",
    "            if label_type == 'neg':\n",
    "                labels.append(0)\n",
    "            else:\n",
    "                labels.append(1)"
   ]
  },
  {
   "cell_type": "code",
   "execution_count": 10,
   "metadata": {},
   "outputs": [],
   "source": [
    "max_words = 10000\n",
    "embedding_dim = 100\n",
    "maxlen = 100\n",
    "training_samples = 200\n",
    "validation_samples = 10000"
   ]
  },
  {
   "cell_type": "code",
   "execution_count": 11,
   "metadata": {},
   "outputs": [],
   "source": [
    "tokenizer = keras.preprocessing.text.Tokenizer(num_words=max_words)\n",
    "tokenizer.fit_on_texts(texts)\n",
    "sequences = tokenizer.texts_to_sequences(texts)\n",
    "\n",
    "data = keras.preprocessing.sequence.pad_sequences(sequences,maxlen=maxlen)\n",
    "labels = np.asarray(labels)"
   ]
  },
  {
   "cell_type": "code",
   "execution_count": 12,
   "metadata": {},
   "outputs": [],
   "source": [
    "indices = np.arange(data.shape[0])\n",
    "np.random.shuffle(indices)\n",
    "\n",
    "data = data[indices]\n",
    "labels = labels[indices]"
   ]
  },
  {
   "cell_type": "code",
   "execution_count": 13,
   "metadata": {},
   "outputs": [],
   "source": [
    "x_train = data[:training_samples]\n",
    "y_train = labels[:training_samples]\n",
    "x_val = data[training_samples: training_samples + validation_samples]\n",
    "y_val = labels[training_samples: training_samples + validation_samples]"
   ]
  },
  {
   "cell_type": "code",
   "execution_count": 14,
   "metadata": {},
   "outputs": [
    {
     "name": "stdout",
     "output_type": "stream",
     "text": [
      "Model: \"sequential\"\n",
      "_________________________________________________________________\n",
      "Layer (type)                 Output Shape              Param #   \n",
      "=================================================================\n",
      "embedding (Embedding)        (None, 100, 100)          1000000   \n",
      "_________________________________________________________________\n",
      "dense (Dense)                (None, 100, 32)           3232      \n",
      "_________________________________________________________________\n",
      "dense_1 (Dense)              (None, 100, 1)            33        \n",
      "=================================================================\n",
      "Total params: 1,003,265\n",
      "Trainable params: 1,003,265\n",
      "Non-trainable params: 0\n",
      "_________________________________________________________________\n",
      "Epoch 1/10\n",
      "7/7 [==============================] - 1s 194ms/step - loss: 0.6922 - acc: 0.5195 - val_loss: 0.6924 - val_acc: 0.5181\n",
      "Epoch 2/10\n",
      "7/7 [==============================] - 1s 136ms/step - loss: 0.6854 - acc: 0.6123 - val_loss: 0.6920 - val_acc: 0.5207\n",
      "Epoch 3/10\n",
      "7/7 [==============================] - 1s 128ms/step - loss: 0.6802 - acc: 0.6308 - val_loss: 0.6917 - val_acc: 0.5228\n",
      "Epoch 4/10\n",
      "7/7 [==============================] - 1s 129ms/step - loss: 0.6745 - acc: 0.6417 - val_loss: 0.6914 - val_acc: 0.5248\n",
      "Epoch 5/10\n",
      "7/7 [==============================] - 1s 136ms/step - loss: 0.6680 - acc: 0.6486 - val_loss: 0.6921 - val_acc: 0.5255\n",
      "Epoch 6/10\n",
      "7/7 [==============================] - 1s 133ms/step - loss: 0.6600 - acc: 0.6496 - val_loss: 0.6930 - val_acc: 0.5241\n",
      "Epoch 7/10\n",
      "7/7 [==============================] - 1s 133ms/step - loss: 0.6520 - acc: 0.6495 - val_loss: 0.6950 - val_acc: 0.5243\n",
      "Epoch 8/10\n",
      "7/7 [==============================] - 1s 133ms/step - loss: 0.6429 - acc: 0.6531 - val_loss: 0.6991 - val_acc: 0.5240\n",
      "Epoch 9/10\n",
      "7/7 [==============================] - 1s 132ms/step - loss: 0.6347 - acc: 0.6537 - val_loss: 0.7017 - val_acc: 0.5240\n",
      "Epoch 10/10\n",
      "7/7 [==============================] - 1s 138ms/step - loss: 0.6263 - acc: 0.6561 - val_loss: 0.7047 - val_acc: 0.5237\n"
     ]
    }
   ],
   "source": [
    "from keras.models import Sequential\n",
    "from keras.layers import Embedding, Flatten, Dense\n",
    "\n",
    "model = Sequential()\n",
    "model.add(Embedding(max_words, embedding_dim, input_length=maxlen))\n",
    "#model.add(Flatten())\n",
    "model.add(Dense(32, activation='relu'))\n",
    "model.add(Dense(1, activation='sigmoid'))\n",
    "model.summary()\n",
    "\n",
    "model.compile(optimizer='rmsprop',\n",
    "              loss='binary_crossentropy',\n",
    "              metrics=['acc'])\n",
    "history = model.fit(x_train, y_train,\n",
    "                    epochs=10,\n",
    "                    batch_size=32,\n",
    "                    validation_data=(x_val, y_val))"
   ]
  },
  {
   "cell_type": "code",
   "execution_count": 15,
   "metadata": {},
   "outputs": [],
   "source": [
    "test_dir = os.path.join(imdb_dir, 'test')\n",
    "\n",
    "labels = []\n",
    "texts = []\n",
    "\n",
    "for label_type in ['neg', 'pos']:\n",
    "    dir_name = os.path.join(test_dir, label_type)\n",
    "    for fname in sorted(os.listdir(dir_name)):\n",
    "        if fname[-4:] == '.txt':\n",
    "            f = open(os.path.join(dir_name, fname))\n",
    "            texts.append(f.read())\n",
    "            f.close()\n",
    "            if label_type == 'neg':\n",
    "                labels.append(0)\n",
    "            else:\n",
    "                labels.append(1)"
   ]
  },
  {
   "cell_type": "code",
   "execution_count": 16,
   "metadata": {},
   "outputs": [],
   "source": [
    "sequences = tokenizer.texts_to_sequences(texts)\n",
    "x_test = keras.preprocessing.sequence.pad_sequences(sequences, maxlen=maxlen)\n",
    "y_test = np.asarray(labels)"
   ]
  },
  {
   "cell_type": "code",
   "execution_count": 17,
   "metadata": {},
   "outputs": [
    {
     "name": "stdout",
     "output_type": "stream",
     "text": [
      "782/782 [==============================] - 2s 3ms/step - loss: 0.7044 - acc: 0.5246\n"
     ]
    },
    {
     "data": {
      "text/plain": [
       "[0.7043618559837341, 0.52463299036026]"
      ]
     },
     "execution_count": 17,
     "metadata": {},
     "output_type": "execute_result"
    }
   ],
   "source": [
    "model.evaluate(x_test,y_test)"
   ]
  },
  {
   "cell_type": "code",
   "execution_count": 18,
   "metadata": {},
   "outputs": [
    {
     "data": {
      "image/png": "[encoded data removed]",
      "text/plain": [
       "<Figure size 432x288 with 1 Axes>"
      ]
     },
     "metadata": {
      "needs_background": "light"
     },
     "output_type": "display_data"
    },
    {
     "data": {
      "image/png": "[encoded data removed]",
      "text/plain": [
       "<Figure size 432x288 with 1 Axes>"
      ]
     },
     "metadata": {
      "needs_background": "light"
     },
     "output_type": "display_data"
    }
   ],
   "source": [
    "import matplotlib.pyplot as plt\n",
    "\n",
    "acc = history.history['acc']\n",
    "val_acc = history.history['val_acc']\n",
    "loss = history.history['loss']\n",
    "val_loss = history.history['val_loss']\n",
    "\n",
    "epochs = range(1, len(acc) + 1)\n",
    "\n",
    "plt.plot(epochs, acc, 'bo', label='Training acc')\n",
    "plt.plot(epochs, val_acc, 'b', label='Validation acc')\n",
    "plt.title('Training and validation accuracy')\n",
    "plt.legend()\n",
    "\n",
    "plt.figure()\n",
    "\n",
    "plt.plot(epochs, loss, 'bo', label='Training loss')\n",
    "plt.plot(epochs, val_loss, 'b', label='Validation loss')\n",
    "plt.title('Training and validation loss')\n",
    "plt.legend()\n",
    "\n",
    "plt.show()"
   ]
  },
  {
   "cell_type": "markdown",
   "metadata": {},
   "source": [
    "## Assignment 10.3\n",
    "\n",
    "Using listing 6.27 in Deep Learning with Python as a guide, fit the same data with an LSTM layer. Produce the model performance metrics and training and validation accuracy curves within the Jupyter notebook."
   ]
  },
  {
   "cell_type": "code",
   "execution_count": 19,
   "metadata": {},
   "outputs": [
    {
     "name": "stdout",
     "output_type": "stream",
     "text": [
      "Epoch 1/10\n",
      "2/2 [==============================] - 1s 256ms/step - loss: 0.6936 - acc: 0.4875 - val_loss: 0.6892 - val_acc: 0.6500\n",
      "Epoch 2/10\n",
      "2/2 [==============================] - 0s 83ms/step - loss: 0.6797 - acc: 0.7250 - val_loss: 0.6854 - val_acc: 0.6500\n",
      "Epoch 3/10\n",
      "2/2 [==============================] - 0s 76ms/step - loss: 0.6617 - acc: 0.8313 - val_loss: 0.6742 - val_acc: 0.6000\n",
      "Epoch 4/10\n",
      "2/2 [==============================] - 0s 79ms/step - loss: 0.6301 - acc: 0.7563 - val_loss: 0.6489 - val_acc: 0.6250\n",
      "Epoch 5/10\n",
      "2/2 [==============================] - 0s 77ms/step - loss: 0.5583 - acc: 0.6125 - val_loss: 0.8138 - val_acc: 0.6250\n",
      "Epoch 6/10\n",
      "2/2 [==============================] - 0s 74ms/step - loss: 0.6859 - acc: 0.6562 - val_loss: 0.6261 - val_acc: 0.6500\n",
      "Epoch 7/10\n",
      "2/2 [==============================] - 0s 78ms/step - loss: 0.4426 - acc: 0.9875 - val_loss: 0.5958 - val_acc: 0.6750\n",
      "Epoch 8/10\n",
      "2/2 [==============================] - 0s 75ms/step - loss: 0.3699 - acc: 0.9875 - val_loss: 0.5915 - val_acc: 0.7000\n",
      "Epoch 9/10\n",
      "2/2 [==============================] - 0s 79ms/step - loss: 0.3211 - acc: 0.9875 - val_loss: 0.5916 - val_acc: 0.7000\n",
      "Epoch 10/10\n",
      "2/2 [==============================] - 0s 80ms/step - loss: 0.2798 - acc: 0.9875 - val_loss: 0.5789 - val_acc: 0.7000\n"
     ]
    }
   ],
   "source": [
    "from keras.layers import LSTM\n",
    "\n",
    "model = Sequential()\n",
    "model.add(Embedding(max_words, embedding_dim, input_length=maxlen))\n",
    "model.add(LSTM(32))\n",
    "model.add(Dense(1, activation='sigmoid'))\n",
    "\n",
    "model.compile(optimizer='rmsprop',\n",
    "              loss='binary_crossentropy',\n",
    "              metrics=['acc'])\n",
    "history = model.fit(x_train, y_train,\n",
    "                    epochs=10,\n",
    "                    batch_size=128,\n",
    "                    validation_split=0.2)"
   ]
  },
  {
   "cell_type": "code",
   "execution_count": 20,
   "metadata": {},
   "outputs": [
    {
     "name": "stdout",
     "output_type": "stream",
     "text": [
      "782/782 [==============================] - 15s 19ms/step - loss: 0.7062 - acc: 0.6226\n"
     ]
    },
    {
     "data": {
      "text/plain": [
       "[0.7062131762504578, 0.6226000189781189]"
      ]
     },
     "execution_count": 20,
     "metadata": {},
     "output_type": "execute_result"
    }
   ],
   "source": [
    "model.evaluate(x_test,y_test)"
   ]
  },
  {
   "cell_type": "code",
   "execution_count": 21,
   "metadata": {},
   "outputs": [
    {
     "data": {
      "image/png": "[encoded data removed]",
      "text/plain": [
       "<Figure size 432x288 with 1 Axes>"
      ]
     },
     "metadata": {
      "needs_background": "light"
     },
     "output_type": "display_data"
    },
    {
     "data": {
      "image/png": "[encoded data removed]",
      "text/plain": [
       "<Figure size 432x288 with 1 Axes>"
      ]
     },
     "metadata": {
      "needs_background": "light"
     },
     "output_type": "display_data"
    }
   ],
   "source": [
    "import matplotlib.pyplot as plt\n",
    "\n",
    "acc = history.history['acc']\n",
    "val_acc = history.history['val_acc']\n",
    "loss = history.history['loss']\n",
    "val_loss = history.history['val_loss']\n",
    "\n",
    "epochs = range(1, len(acc) + 1)\n",
    "\n",
    "plt.plot(epochs, acc, 'bo', label='Training acc')\n",
    "plt.plot(epochs, val_acc, 'b', label='Validation acc')\n",
    "plt.title('Training and validation accuracy')\n",
    "plt.legend()\n",
    "\n",
    "plt.figure()\n",
    "\n",
    "plt.plot(epochs, loss, 'bo', label='Training loss')\n",
    "plt.plot(epochs, val_loss, 'b', label='Validation loss')\n",
    "plt.title('Training and validation loss')\n",
    "plt.legend()\n",
    "\n",
    "plt.show()"
   ]
  },
  {
   "cell_type": "markdown",
   "metadata": {},
   "source": [
    "## Assignment 10.4\n",
    "\n",
    "Using listing 6.46 in Deep Learning with Python as a guide, fit the same data with a simple 1D convnet. Produce the model performance metrics and training and validation accuracy curves within the Jupyter notebook."
   ]
  },
  {
   "cell_type": "code",
   "execution_count": 22,
   "metadata": {},
   "outputs": [
    {
     "name": "stdout",
     "output_type": "stream",
     "text": [
      "Model: \"sequential_2\"\n",
      "_________________________________________________________________\n",
      "Layer (type)                 Output Shape              Param #   \n",
      "=================================================================\n",
      "embedding_2 (Embedding)      (None, 100, 128)          1280000   \n",
      "_________________________________________________________________\n",
      "conv1d (Conv1D)              (None, 94, 32)            28704     \n",
      "_________________________________________________________________\n",
      "max_pooling1d (MaxPooling1D) (None, 18, 32)            0         \n",
      "_________________________________________________________________\n",
      "conv1d_1 (Conv1D)            (None, 12, 32)            7200      \n",
      "_________________________________________________________________\n",
      "flatten (Flatten)            (None, 384)               0         \n",
      "_________________________________________________________________\n",
      "dense_3 (Dense)              (None, 1)                 385       \n",
      "=================================================================\n",
      "Total params: 1,316,289\n",
      "Trainable params: 1,316,289\n",
      "Non-trainable params: 0\n",
      "_________________________________________________________________\n",
      "Epoch 1/100\n",
      "2/2 [==============================] - 0s 69ms/step - loss: 6.0584 - acc: 0.4750 - val_loss: 5.1235 - val_acc: 0.3750\n",
      "Epoch 2/100\n",
      "2/2 [==============================] - 0s 28ms/step - loss: 3.8327 - acc: 0.4750 - val_loss: 2.9919 - val_acc: 0.3750\n",
      "Epoch 3/100\n",
      "2/2 [==============================] - 0s 28ms/step - loss: 2.3551 - acc: 0.4750 - val_loss: 2.2869 - val_acc: 0.3750\n",
      "Epoch 4/100\n",
      "2/2 [==============================] - 0s 26ms/step - loss: 1.9890 - acc: 0.4750 - val_loss: 2.0544 - val_acc: 0.3750\n",
      "Epoch 5/100\n",
      "2/2 [==============================] - 0s 25ms/step - loss: 1.6679 - acc: 0.4750 - val_loss: 1.8484 - val_acc: 0.3750\n",
      "Epoch 6/100\n",
      "2/2 [==============================] - 0s 25ms/step - loss: 1.3634 - acc: 0.4750 - val_loss: 1.8139 - val_acc: 0.3750\n",
      "Epoch 7/100\n",
      "2/2 [==============================] - 0s 26ms/step - loss: 1.3225 - acc: 0.4750 - val_loss: 1.7766 - val_acc: 0.3750\n",
      "Epoch 8/100\n",
      "2/2 [==============================] - 0s 28ms/step - loss: 1.2877 - acc: 0.4750 - val_loss: 1.7473 - val_acc: 0.3750\n",
      "Epoch 9/100\n",
      "2/2 [==============================] - 0s 25ms/step - loss: 1.2599 - acc: 0.4750 - val_loss: 1.7167 - val_acc: 0.3750\n",
      "Epoch 10/100\n",
      "2/2 [==============================] - 0s 24ms/step - loss: 1.2314 - acc: 0.4750 - val_loss: 1.6871 - val_acc: 0.3750\n",
      "Epoch 11/100\n",
      "2/2 [==============================] - 0s 32ms/step - loss: 1.2045 - acc: 0.4750 - val_loss: 1.6537 - val_acc: 0.3750\n",
      "Epoch 12/100\n",
      "2/2 [==============================] - 0s 28ms/step - loss: 1.1758 - acc: 0.4750 - val_loss: 1.6250 - val_acc: 0.3750\n",
      "Epoch 13/100\n",
      "2/2 [==============================] - 0s 27ms/step - loss: 1.1499 - acc: 0.4750 - val_loss: 1.5939 - val_acc: 0.3750\n",
      "Epoch 14/100\n",
      "2/2 [==============================] - 0s 24ms/step - loss: 1.1241 - acc: 0.4750 - val_loss: 1.5680 - val_acc: 0.3750\n",
      "Epoch 15/100\n",
      "2/2 [==============================] - 0s 29ms/step - loss: 1.1013 - acc: 0.4750 - val_loss: 1.5397 - val_acc: 0.3750\n",
      "Epoch 16/100\n",
      "2/2 [==============================] - 0s 29ms/step - loss: 1.0771 - acc: 0.4750 - val_loss: 1.5084 - val_acc: 0.3750\n",
      "Epoch 17/100\n",
      "2/2 [==============================] - 0s 25ms/step - loss: 1.0515 - acc: 0.4750 - val_loss: 1.4786 - val_acc: 0.3750\n",
      "Epoch 18/100\n",
      "2/2 [==============================] - 0s 21ms/step - loss: 1.0267 - acc: 0.4750 - val_loss: 1.4439 - val_acc: 0.3750\n",
      "Epoch 19/100\n",
      "2/2 [==============================] - 0s 27ms/step - loss: 0.9998 - acc: 0.4750 - val_loss: 1.4161 - val_acc: 0.3750\n",
      "Epoch 20/100\n",
      "2/2 [==============================] - 0s 29ms/step - loss: 0.9768 - acc: 0.4750 - val_loss: 1.3884 - val_acc: 0.3750\n",
      "Epoch 21/100\n",
      "2/2 [==============================] - 0s 26ms/step - loss: 0.9544 - acc: 0.4750 - val_loss: 1.3643 - val_acc: 0.3750\n",
      "Epoch 22/100\n",
      "2/2 [==============================] - 0s 29ms/step - loss: 0.9342 - acc: 0.4750 - val_loss: 1.3398 - val_acc: 0.3750\n",
      "Epoch 23/100\n",
      "2/2 [==============================] - 0s 27ms/step - loss: 0.9134 - acc: 0.4750 - val_loss: 1.3100 - val_acc: 0.3750\n",
      "Epoch 24/100\n",
      "2/2 [==============================] - 0s 26ms/step - loss: 0.8899 - acc: 0.4750 - val_loss: 1.2834 - val_acc: 0.3750\n",
      "Epoch 25/100\n",
      "2/2 [==============================] - 0s 50ms/step - loss: 0.8681 - acc: 0.4750 - val_loss: 1.2580 - val_acc: 0.3750\n",
      "Epoch 26/100\n",
      "2/2 [==============================] - 0s 26ms/step - loss: 0.8469 - acc: 0.4750 - val_loss: 1.2318 - val_acc: 0.3750\n",
      "Epoch 27/100\n",
      "2/2 [==============================] - 0s 27ms/step - loss: 0.8255 - acc: 0.4750 - val_loss: 1.2070 - val_acc: 0.3750\n",
      "Epoch 28/100\n",
      "2/2 [==============================] - 0s 28ms/step - loss: 0.8048 - acc: 0.4750 - val_loss: 1.1810 - val_acc: 0.3750\n",
      "Epoch 29/100\n",
      "2/2 [==============================] - 0s 33ms/step - loss: 0.7840 - acc: 0.4750 - val_loss: 1.1585 - val_acc: 0.3750\n",
      "Epoch 30/100\n",
      "2/2 [==============================] - 0s 23ms/step - loss: 0.7650 - acc: 0.4750 - val_loss: 1.1371 - val_acc: 0.3750\n",
      "Epoch 31/100\n",
      "2/2 [==============================] - 0s 27ms/step - loss: 0.7460 - acc: 0.4750 - val_loss: 1.1129 - val_acc: 0.3750\n",
      "Epoch 32/100\n",
      "2/2 [==============================] - 0s 27ms/step - loss: 0.7258 - acc: 0.4750 - val_loss: 1.0904 - val_acc: 0.3750\n",
      "Epoch 33/100\n",
      "2/2 [==============================] - 0s 28ms/step - loss: 0.7064 - acc: 0.4750 - val_loss: 1.0654 - val_acc: 0.3750\n",
      "Epoch 34/100\n",
      "2/2 [==============================] - 0s 24ms/step - loss: 0.6863 - acc: 0.4750 - val_loss: 1.0451 - val_acc: 0.3750\n",
      "Epoch 35/100\n",
      "2/2 [==============================] - 0s 29ms/step - loss: 0.6681 - acc: 0.4750 - val_loss: 1.0234 - val_acc: 0.3750\n",
      "Epoch 36/100\n",
      "2/2 [==============================] - 0s 27ms/step - loss: 0.6504 - acc: 0.4750 - val_loss: 1.0096 - val_acc: 0.3750\n",
      "Epoch 37/100\n",
      "2/2 [==============================] - 0s 32ms/step - loss: 0.6350 - acc: 0.4750 - val_loss: 0.9885 - val_acc: 0.3750\n",
      "Epoch 38/100\n",
      "2/2 [==============================] - 0s 25ms/step - loss: 0.6167 - acc: 0.4750 - val_loss: 0.9645 - val_acc: 0.3750\n",
      "Epoch 39/100\n",
      "2/2 [==============================] - 0s 27ms/step - loss: 0.5980 - acc: 0.4750 - val_loss: 0.9478 - val_acc: 0.3750\n",
      "Epoch 40/100\n",
      "2/2 [==============================] - 0s 25ms/step - loss: 0.5820 - acc: 0.4750 - val_loss: 0.9305 - val_acc: 0.3750\n",
      "Epoch 41/100\n",
      "2/2 [==============================] - 0s 30ms/step - loss: 0.5660 - acc: 0.4750 - val_loss: 0.9142 - val_acc: 0.3750\n",
      "Epoch 42/100\n",
      "2/2 [==============================] - 0s 29ms/step - loss: 0.5510 - acc: 0.4812 - val_loss: 0.9025 - val_acc: 0.3750\n",
      "Epoch 43/100\n",
      "2/2 [==============================] - 0s 25ms/step - loss: 0.5367 - acc: 0.5000 - val_loss: 0.8788 - val_acc: 0.3750\n",
      "Epoch 44/100\n",
      "2/2 [==============================] - 0s 26ms/step - loss: 0.5188 - acc: 0.5437 - val_loss: 0.8615 - val_acc: 0.3750\n",
      "Epoch 45/100\n",
      "2/2 [==============================] - 0s 28ms/step - loss: 0.5037 - acc: 0.5938 - val_loss: 0.8490 - val_acc: 0.3750\n",
      "Epoch 46/100\n",
      "2/2 [==============================] - 0s 27ms/step - loss: 0.4899 - acc: 0.6250 - val_loss: 0.8302 - val_acc: 0.3750\n",
      "Epoch 47/100\n",
      "2/2 [==============================] - 0s 27ms/step - loss: 0.4747 - acc: 0.7188 - val_loss: 0.8188 - val_acc: 0.3750\n",
      "Epoch 48/100\n",
      "2/2 [==============================] - 0s 25ms/step - loss: 0.4614 - acc: 0.7812 - val_loss: 0.8073 - val_acc: 0.3750\n",
      "Epoch 49/100\n",
      "2/2 [==============================] - 0s 24ms/step - loss: 0.4490 - acc: 0.8750 - val_loss: 0.7995 - val_acc: 0.3750\n",
      "Epoch 50/100\n",
      "2/2 [==============================] - 0s 25ms/step - loss: 0.4368 - acc: 0.8938 - val_loss: 0.7833 - val_acc: 0.3750\n",
      "Epoch 51/100\n",
      "2/2 [==============================] - 0s 27ms/step - loss: 0.4225 - acc: 0.9500 - val_loss: 0.7739 - val_acc: 0.3750\n",
      "Epoch 52/100\n",
      "2/2 [==============================] - 0s 30ms/step - loss: 0.4100 - acc: 0.9563 - val_loss: 0.7660 - val_acc: 0.3750\n",
      "Epoch 53/100\n",
      "2/2 [==============================] - 0s 26ms/step - loss: 0.3978 - acc: 0.9750 - val_loss: 0.7493 - val_acc: 0.3750\n",
      "Epoch 54/100\n",
      "2/2 [==============================] - 0s 25ms/step - loss: 0.3837 - acc: 0.9875 - val_loss: 0.7388 - val_acc: 0.3750\n"
     ]
    },
    {
     "name": "stdout",
     "output_type": "stream",
     "text": [
      "Epoch 55/100\n",
      "2/2 [==============================] - 0s 24ms/step - loss: 0.3714 - acc: 0.9937 - val_loss: 0.7292 - val_acc: 0.4000\n",
      "Epoch 56/100\n",
      "2/2 [==============================] - 0s 25ms/step - loss: 0.3595 - acc: 1.0000 - val_loss: 0.7254 - val_acc: 0.4000\n",
      "Epoch 57/100\n",
      "2/2 [==============================] - 0s 25ms/step - loss: 0.3484 - acc: 1.0000 - val_loss: 0.7200 - val_acc: 0.3500\n",
      "Epoch 58/100\n",
      "2/2 [==============================] - 0s 23ms/step - loss: 0.3376 - acc: 1.0000 - val_loss: 0.7212 - val_acc: 0.3500\n",
      "Epoch 59/100\n",
      "2/2 [==============================] - 0s 25ms/step - loss: 0.3273 - acc: 1.0000 - val_loss: 0.7156 - val_acc: 0.3750\n",
      "Epoch 60/100\n",
      "2/2 [==============================] - 0s 29ms/step - loss: 0.3157 - acc: 1.0000 - val_loss: 0.7096 - val_acc: 0.4000\n",
      "Epoch 61/100\n",
      "2/2 [==============================] - 0s 26ms/step - loss: 0.3041 - acc: 1.0000 - val_loss: 0.7051 - val_acc: 0.4250\n",
      "Epoch 62/100\n",
      "2/2 [==============================] - 0s 34ms/step - loss: 0.2926 - acc: 1.0000 - val_loss: 0.6962 - val_acc: 0.4500\n",
      "Epoch 63/100\n",
      "2/2 [==============================] - 0s 29ms/step - loss: 0.2805 - acc: 1.0000 - val_loss: 0.6870 - val_acc: 0.5250\n",
      "Epoch 64/100\n",
      "2/2 [==============================] - 0s 21ms/step - loss: 0.2684 - acc: 0.9937 - val_loss: 0.6815 - val_acc: 0.5250\n",
      "Epoch 65/100\n",
      "2/2 [==============================] - 0s 26ms/step - loss: 0.2572 - acc: 0.9937 - val_loss: 0.6783 - val_acc: 0.5750\n",
      "Epoch 66/100\n",
      "2/2 [==============================] - 0s 26ms/step - loss: 0.2466 - acc: 0.9937 - val_loss: 0.6817 - val_acc: 0.5250\n",
      "Epoch 67/100\n",
      "2/2 [==============================] - 0s 21ms/step - loss: 0.2360 - acc: 1.0000 - val_loss: 0.6780 - val_acc: 0.5750\n",
      "Epoch 68/100\n",
      "2/2 [==============================] - 0s 24ms/step - loss: 0.2249 - acc: 0.9937 - val_loss: 0.6729 - val_acc: 0.6000\n",
      "Epoch 69/100\n",
      "2/2 [==============================] - 0s 28ms/step - loss: 0.2136 - acc: 0.9875 - val_loss: 0.6694 - val_acc: 0.6000\n",
      "Epoch 70/100\n",
      "2/2 [==============================] - 0s 24ms/step - loss: 0.2024 - acc: 0.9875 - val_loss: 0.6632 - val_acc: 0.6250\n",
      "Epoch 71/100\n",
      "2/2 [==============================] - 0s 25ms/step - loss: 0.1912 - acc: 0.9875 - val_loss: 0.6616 - val_acc: 0.6500\n",
      "Epoch 72/100\n",
      "2/2 [==============================] - 0s 28ms/step - loss: 0.1805 - acc: 0.9875 - val_loss: 0.6634 - val_acc: 0.6250\n",
      "Epoch 73/100\n",
      "2/2 [==============================] - 0s 27ms/step - loss: 0.1699 - acc: 0.9875 - val_loss: 0.6625 - val_acc: 0.6250\n",
      "Epoch 74/100\n",
      "2/2 [==============================] - 0s 25ms/step - loss: 0.1592 - acc: 0.9875 - val_loss: 0.6661 - val_acc: 0.6250\n",
      "Epoch 75/100\n",
      "2/2 [==============================] - 0s 25ms/step - loss: 0.1485 - acc: 0.9875 - val_loss: 0.6645 - val_acc: 0.6250\n",
      "Epoch 76/100\n",
      "2/2 [==============================] - 0s 24ms/step - loss: 0.1382 - acc: 0.9875 - val_loss: 0.6674 - val_acc: 0.5750\n",
      "Epoch 77/100\n",
      "2/2 [==============================] - 0s 27ms/step - loss: 0.1277 - acc: 0.9875 - val_loss: 0.6684 - val_acc: 0.5750\n",
      "Epoch 78/100\n",
      "2/2 [==============================] - 0s 25ms/step - loss: 0.1178 - acc: 0.9875 - val_loss: 0.6710 - val_acc: 0.5750\n",
      "Epoch 79/100\n",
      "2/2 [==============================] - 0s 25ms/step - loss: 0.1086 - acc: 0.9875 - val_loss: 0.6779 - val_acc: 0.5500\n",
      "Epoch 80/100\n",
      "2/2 [==============================] - 0s 26ms/step - loss: 0.1000 - acc: 0.9937 - val_loss: 0.6713 - val_acc: 0.6000\n",
      "Epoch 81/100\n",
      "2/2 [==============================] - 0s 25ms/step - loss: 0.0902 - acc: 0.9937 - val_loss: 0.6708 - val_acc: 0.5750\n",
      "Epoch 82/100\n",
      "2/2 [==============================] - 0s 26ms/step - loss: 0.0820 - acc: 0.9937 - val_loss: 0.6763 - val_acc: 0.5500\n",
      "Epoch 83/100\n",
      "2/2 [==============================] - 0s 24ms/step - loss: 0.0744 - acc: 0.9937 - val_loss: 0.6778 - val_acc: 0.5500\n",
      "Epoch 84/100\n",
      "2/2 [==============================] - 0s 25ms/step - loss: 0.0663 - acc: 0.9937 - val_loss: 0.6738 - val_acc: 0.6000\n",
      "Epoch 85/100\n",
      "2/2 [==============================] - 0s 28ms/step - loss: 0.0587 - acc: 0.9937 - val_loss: 0.6736 - val_acc: 0.6000\n",
      "Epoch 86/100\n",
      "2/2 [==============================] - 0s 29ms/step - loss: 0.0518 - acc: 0.9937 - val_loss: 0.6728 - val_acc: 0.6250\n",
      "Epoch 87/100\n",
      "2/2 [==============================] - 0s 22ms/step - loss: 0.0453 - acc: 0.9937 - val_loss: 0.6808 - val_acc: 0.5500\n",
      "Epoch 88/100\n",
      "2/2 [==============================] - 0s 26ms/step - loss: 0.0394 - acc: 1.0000 - val_loss: 0.6703 - val_acc: 0.6000\n",
      "Epoch 89/100\n",
      "2/2 [==============================] - 0s 24ms/step - loss: 0.0343 - acc: 0.9937 - val_loss: 0.6709 - val_acc: 0.6250\n",
      "Epoch 90/100\n",
      "2/2 [==============================] - 0s 25ms/step - loss: 0.0298 - acc: 0.9937 - val_loss: 0.6749 - val_acc: 0.5750\n",
      "Epoch 91/100\n",
      "2/2 [==============================] - 0s 28ms/step - loss: 0.0257 - acc: 0.9937 - val_loss: 0.6721 - val_acc: 0.6000\n",
      "Epoch 92/100\n",
      "2/2 [==============================] - 0s 166ms/step - loss: 0.0227 - acc: 0.9937 - val_loss: 0.6785 - val_acc: 0.5500\n",
      "Epoch 93/100\n",
      "2/2 [==============================] - 0s 27ms/step - loss: 0.0198 - acc: 0.9937 - val_loss: 0.6732 - val_acc: 0.6000\n",
      "Epoch 94/100\n",
      "2/2 [==============================] - 0s 25ms/step - loss: 0.0177 - acc: 0.9937 - val_loss: 0.6737 - val_acc: 0.6000\n",
      "Epoch 95/100\n",
      "2/2 [==============================] - 0s 26ms/step - loss: 0.0152 - acc: 0.9937 - val_loss: 0.6732 - val_acc: 0.6000\n",
      "Epoch 96/100\n",
      "2/2 [==============================] - 0s 25ms/step - loss: 0.0138 - acc: 0.9937 - val_loss: 0.6757 - val_acc: 0.5750\n",
      "Epoch 97/100\n",
      "2/2 [==============================] - 0s 28ms/step - loss: 0.0126 - acc: 1.0000 - val_loss: 0.6778 - val_acc: 0.5500\n",
      "Epoch 98/100\n",
      "2/2 [==============================] - 0s 25ms/step - loss: 0.0113 - acc: 1.0000 - val_loss: 0.6775 - val_acc: 0.5500\n",
      "Epoch 99/100\n",
      "2/2 [==============================] - 0s 29ms/step - loss: 0.0104 - acc: 1.0000 - val_loss: 0.6760 - val_acc: 0.5750\n",
      "Epoch 100/100\n",
      "2/2 [==============================] - 0s 25ms/step - loss: 0.0100 - acc: 1.0000 - val_loss: 0.6782 - val_acc: 0.5500\n"
     ]
    }
   ],
   "source": [
    "from keras.models import Sequential\n",
    "from keras import layers\n",
    "from keras.optimizers import RMSprop\n",
    "\n",
    "max_features = 10000\n",
    "max_len = 100\n",
    "\n",
    "model = Sequential()\n",
    "model.add(layers.Embedding(max_features, 128, input_length=max_len))\n",
    "model.add(layers.Conv1D(32, 7, activation='relu'))\n",
    "model.add(layers.MaxPooling1D(5))\n",
    "model.add(layers.Conv1D(32, 7, activation='relu'))\n",
    "model.add(layers.Flatten())\n",
    "model.add(layers.Dense(1))\n",
    "\n",
    "model.summary()\n",
    "\n",
    "model.compile(optimizer=RMSprop(lr=1e-4),\n",
    "              loss='binary_crossentropy',\n",
    "              metrics=['acc'])\n",
    "history = model.fit(x_train, y_train,\n",
    "                    epochs=100,\n",
    "                    batch_size=128,\n",
    "                    validation_split=0.2)"
   ]
  },
  {
   "cell_type": "code",
   "execution_count": 23,
   "metadata": {},
   "outputs": [
    {
     "name": "stdout",
     "output_type": "stream",
     "text": [
      "782/782 [==============================] - 2s 3ms/step - loss: 0.6900 - acc: 0.5376\n"
     ]
    },
    {
     "data": {
      "text/plain": [
       "[0.690026581287384, 0.5375999808311462]"
      ]
     },
     "execution_count": 23,
     "metadata": {},
     "output_type": "execute_result"
    }
   ],
   "source": [
    "model.evaluate(x_test,y_test)"
   ]
  },
  {
   "cell_type": "code",
   "execution_count": 24,
   "metadata": {},
   "outputs": [
    {
     "data": {
      "image/png": "[encoded data removed]",
      "text/plain": [
       "<Figure size 432x288 with 1 Axes>"
      ]
     },
     "metadata": {
      "needs_background": "light"
     },
     "output_type": "display_data"
    },
    {
     "data": {
      "image/png": "[encoded data removed]",
      "text/plain": [
       "<Figure size 432x288 with 1 Axes>"
      ]
     },
     "metadata": {
      "needs_background": "light"
     },
     "output_type": "display_data"
    }
   ],
   "source": [
    "import matplotlib.pyplot as plt\n",
    "\n",
    "acc = history.history['acc']\n",
    "val_acc = history.history['val_acc']\n",
    "loss = history.history['loss']\n",
    "val_loss = history.history['val_loss']\n",
    "\n",
    "epochs = range(1, len(acc) + 1)\n",
    "\n",
    "plt.plot(epochs, acc, 'bo', label='Training acc')\n",
    "plt.plot(epochs, val_acc, 'b', label='Validation acc')\n",
    "plt.title('Training and validation accuracy')\n",
    "plt.legend()\n",
    "\n",
    "plt.figure()\n",
    "\n",
    "plt.plot(epochs, loss, 'bo', label='Training loss')\n",
    "plt.plot(epochs, val_loss, 'b', label='Validation loss')\n",
    "plt.title('Training and validation loss')\n",
    "plt.legend()\n",
    "\n",
    "plt.show()"
   ]
  },
  {
   "cell_type": "code",
   "execution_count": null,
   "metadata": {},
   "outputs": [],
   "source": []
  },
  {
   "cell_type": "code",
   "execution_count": null,
   "metadata": {},
   "outputs": [],
   "source": []
  }
 ],
 "metadata": {
  "kernelspec": {
   "display_name": "Python 3",
   "language": "python",
   "name": "python3"
  },
  "language_info": {
   "codemirror_mode": {
    "name": "ipython",
    "version": 3
   },
   "file_extension": ".py",
   "mimetype": "text/x-python",
   "name": "python",
   "nbconvert_exporter": "python",
   "pygments_lexer": "ipython3",
   "version": "3.8.3"
  }
 },
 "nbformat": 4,
 "nbformat_minor": 4
}
