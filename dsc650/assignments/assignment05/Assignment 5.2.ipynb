{
 "cells": [
  {
   "cell_type": "markdown",
   "metadata": {},
   "source": [
    "# Assignment 5.2\n",
    "\n",
    "Brandon Sams\n",
    "\n",
    "01Oct2020"
   ]
  },
  {
   "cell_type": "markdown",
   "metadata": {},
   "source": [
    "## Loading the Reuters dataset"
   ]
  },
  {
   "cell_type": "code",
   "execution_count": 1,
   "metadata": {},
   "outputs": [],
   "source": [
    "from keras.datasets import reuters"
   ]
  },
  {
   "cell_type": "code",
   "execution_count": 2,
   "metadata": {},
   "outputs": [],
   "source": [
    "(train_data, train_labels), (test_data, test_labels) = reuters.load_data(num_words=10000)"
   ]
  },
  {
   "cell_type": "code",
   "execution_count": 3,
   "metadata": {},
   "outputs": [
    {
     "data": {
      "text/plain": [
       "8982"
      ]
     },
     "execution_count": 3,
     "metadata": {},
     "output_type": "execute_result"
    }
   ],
   "source": [
    "len(train_data)"
   ]
  },
  {
   "cell_type": "code",
   "execution_count": 4,
   "metadata": {},
   "outputs": [
    {
     "data": {
      "text/plain": [
       "2246"
      ]
     },
     "execution_count": 4,
     "metadata": {},
     "output_type": "execute_result"
    }
   ],
   "source": [
    "len(test_data)"
   ]
  },
  {
   "cell_type": "code",
   "execution_count": 5,
   "metadata": {},
   "outputs": [
    {
     "data": {
      "text/plain": [
       "[1,\n",
       " 245,\n",
       " 273,\n",
       " 207,\n",
       " 156,\n",
       " 53,\n",
       " 74,\n",
       " 160,\n",
       " 26,\n",
       " 14,\n",
       " 46,\n",
       " 296,\n",
       " 26,\n",
       " 39,\n",
       " 74,\n",
       " 2979,\n",
       " 3554,\n",
       " 14,\n",
       " 46,\n",
       " 4689,\n",
       " 4329,\n",
       " 86,\n",
       " 61,\n",
       " 3499,\n",
       " 4795,\n",
       " 14,\n",
       " 61,\n",
       " 451,\n",
       " 4329,\n",
       " 17,\n",
       " 12]"
      ]
     },
     "execution_count": 5,
     "metadata": {},
     "output_type": "execute_result"
    }
   ],
   "source": [
    "train_data[10]"
   ]
  },
  {
   "cell_type": "markdown",
   "metadata": {},
   "source": [
    "## Decoding newswires back to text"
   ]
  },
  {
   "cell_type": "code",
   "execution_count": 6,
   "metadata": {},
   "outputs": [],
   "source": [
    "word_index = reuters.get_word_index()\n",
    "reverse_word_index = dict([(value, key) for (key, value) in word_index.items()])\n",
    "decoded_newswire = ' '.join([reverse_word_index.get(i - 3, '?') for i in train_data[0]])"
   ]
  },
  {
   "cell_type": "code",
   "execution_count": 7,
   "metadata": {},
   "outputs": [
    {
     "data": {
      "text/plain": [
       "3"
      ]
     },
     "execution_count": 7,
     "metadata": {},
     "output_type": "execute_result"
    }
   ],
   "source": [
    "train_labels[10]"
   ]
  },
  {
   "cell_type": "markdown",
   "metadata": {},
   "source": [
    "## Encoding the data"
   ]
  },
  {
   "cell_type": "code",
   "execution_count": 8,
   "metadata": {},
   "outputs": [],
   "source": [
    "import numpy as np\n",
    "\n",
    "def vectorize_sequences(sequences, dimension=10000):\n",
    "    results = np.zeros((len(sequences), dimension))\n",
    "    for i, sequence in enumerate(sequences):\n",
    "        results[i, sequence] = 1.\n",
    "    return results"
   ]
  },
  {
   "cell_type": "code",
   "execution_count": 9,
   "metadata": {},
   "outputs": [],
   "source": [
    "x_train = vectorize_sequences(train_data)"
   ]
  },
  {
   "cell_type": "code",
   "execution_count": 10,
   "metadata": {},
   "outputs": [],
   "source": [
    "x_test = vectorize_sequences(test_data)"
   ]
  },
  {
   "cell_type": "code",
   "execution_count": 11,
   "metadata": {},
   "outputs": [],
   "source": [
    "def to_one_hot(labels, dimension=46):\n",
    "    results = np.zeros((len(labels), dimension))\n",
    "    for i, label in enumerate(labels):\n",
    "        results[i, label] = 1.\n",
    "    return results"
   ]
  },
  {
   "cell_type": "code",
   "execution_count": 12,
   "metadata": {},
   "outputs": [],
   "source": [
    "one_hot_train_labels = to_one_hot(train_labels)\n",
    "one_hot_test_labels = to_one_hot(test_labels)"
   ]
  },
  {
   "cell_type": "code",
   "execution_count": 13,
   "metadata": {},
   "outputs": [],
   "source": [
    "from keras.utils.np_utils import to_categorical"
   ]
  },
  {
   "cell_type": "code",
   "execution_count": 14,
   "metadata": {},
   "outputs": [],
   "source": [
    "one_hot_train_labels2 = to_categorical(train_labels)\n",
    "one_hot_test_labels2 = to_categorical(test_labels)"
   ]
  },
  {
   "cell_type": "code",
   "execution_count": 15,
   "metadata": {},
   "outputs": [
    {
     "data": {
      "text/plain": [
       "array([[ True,  True,  True, ...,  True,  True,  True],\n",
       "       [ True,  True,  True, ...,  True,  True,  True],\n",
       "       [ True,  True,  True, ...,  True,  True,  True],\n",
       "       ...,\n",
       "       [ True,  True,  True, ...,  True,  True,  True],\n",
       "       [ True,  True,  True, ...,  True,  True,  True],\n",
       "       [ True,  True,  True, ...,  True,  True,  True]])"
      ]
     },
     "execution_count": 15,
     "metadata": {},
     "output_type": "execute_result"
    }
   ],
   "source": [
    "one_hot_train_labels == one_hot_train_labels2"
   ]
  },
  {
   "cell_type": "code",
   "execution_count": 16,
   "metadata": {},
   "outputs": [
    {
     "data": {
      "text/plain": [
       "array([[ True,  True,  True, ...,  True,  True,  True],\n",
       "       [ True,  True,  True, ...,  True,  True,  True],\n",
       "       [ True,  True,  True, ...,  True,  True,  True],\n",
       "       ...,\n",
       "       [ True,  True,  True, ...,  True,  True,  True],\n",
       "       [ True,  True,  True, ...,  True,  True,  True],\n",
       "       [ True,  True,  True, ...,  True,  True,  True]])"
      ]
     },
     "execution_count": 16,
     "metadata": {},
     "output_type": "execute_result"
    }
   ],
   "source": [
    "one_hot_test_labels == one_hot_test_labels2"
   ]
  },
  {
   "cell_type": "markdown",
   "metadata": {},
   "source": [
    "## Model definition"
   ]
  },
  {
   "cell_type": "code",
   "execution_count": 17,
   "metadata": {},
   "outputs": [],
   "source": [
    "from keras import models\n",
    "from keras import layers"
   ]
  },
  {
   "cell_type": "code",
   "execution_count": 18,
   "metadata": {},
   "outputs": [],
   "source": [
    "model = models.Sequential()\n",
    "model.add(layers.Dense(64, activation='relu', input_shape=(10000,)))\n",
    "model.add(layers.Dense(64, activation='relu'))\n",
    "model.add(layers.Dense(46, activation='softmax'))"
   ]
  },
  {
   "cell_type": "markdown",
   "metadata": {},
   "source": [
    "## Compiling the model"
   ]
  },
  {
   "cell_type": "code",
   "execution_count": 19,
   "metadata": {},
   "outputs": [],
   "source": [
    "model.compile(optimizer='rmsprop',loss='categorical_crossentropy',metrics=['accuracy'])"
   ]
  },
  {
   "cell_type": "markdown",
   "metadata": {},
   "source": [
    "## Setting aside a validation set"
   ]
  },
  {
   "cell_type": "code",
   "execution_count": 20,
   "metadata": {},
   "outputs": [],
   "source": [
    "x_val = x_train[:1000]\n",
    "partial_x_train = x_train[1000:]\n",
    "\n",
    "y_val = one_hot_train_labels[:1000]\n",
    "partial_y_train = one_hot_train_labels[1000:]"
   ]
  },
  {
   "cell_type": "markdown",
   "metadata": {},
   "source": [
    "## Training the model"
   ]
  },
  {
   "cell_type": "code",
   "execution_count": 21,
   "metadata": {},
   "outputs": [
    {
     "name": "stdout",
     "output_type": "stream",
     "text": [
      "Epoch 1/20\n",
      "16/16 [==============================] - 1s 36ms/step - loss: 2.6633 - accuracy: 0.5271 - val_loss: 1.7522 - val_accuracy: 0.6400\n",
      "Epoch 2/20\n",
      "16/16 [==============================] - 0s 20ms/step - loss: 1.4239 - accuracy: 0.7047 - val_loss: 1.3122 - val_accuracy: 0.7280\n",
      "Epoch 3/20\n",
      "16/16 [==============================] - 0s 18ms/step - loss: 1.0537 - accuracy: 0.7712 - val_loss: 1.1508 - val_accuracy: 0.7450\n",
      "Epoch 4/20\n",
      "16/16 [==============================] - 0s 17ms/step - loss: 0.8366 - accuracy: 0.8140 - val_loss: 1.0345 - val_accuracy: 0.7820\n",
      "Epoch 5/20\n",
      "16/16 [==============================] - 0s 16ms/step - loss: 0.6768 - accuracy: 0.8557 - val_loss: 0.9882 - val_accuracy: 0.8020\n",
      "Epoch 6/20\n",
      "16/16 [==============================] - 0s 17ms/step - loss: 0.5387 - accuracy: 0.8881 - val_loss: 0.9981 - val_accuracy: 0.7850\n",
      "Epoch 7/20\n",
      "16/16 [==============================] - 0s 16ms/step - loss: 0.4399 - accuracy: 0.9083 - val_loss: 0.9235 - val_accuracy: 0.8050\n",
      "Epoch 8/20\n",
      "16/16 [==============================] - 0s 15ms/step - loss: 0.3518 - accuracy: 0.9245 - val_loss: 0.8996 - val_accuracy: 0.8130\n",
      "Epoch 9/20\n",
      "16/16 [==============================] - 0s 14ms/step - loss: 0.2954 - accuracy: 0.9367 - val_loss: 0.9115 - val_accuracy: 0.8080\n",
      "Epoch 10/20\n",
      "16/16 [==============================] - 0s 17ms/step - loss: 0.2469 - accuracy: 0.9432 - val_loss: 0.9191 - val_accuracy: 0.8180\n",
      "Epoch 11/20\n",
      "16/16 [==============================] - 0s 15ms/step - loss: 0.2124 - accuracy: 0.9485 - val_loss: 0.9284 - val_accuracy: 0.8090\n",
      "Epoch 12/20\n",
      "16/16 [==============================] - 0s 14ms/step - loss: 0.1845 - accuracy: 0.9505 - val_loss: 0.9346 - val_accuracy: 0.8240\n",
      "Epoch 13/20\n",
      "16/16 [==============================] - 0s 17ms/step - loss: 0.1648 - accuracy: 0.9538 - val_loss: 1.0542 - val_accuracy: 0.7810\n",
      "Epoch 14/20\n",
      "16/16 [==============================] - 0s 16ms/step - loss: 0.1557 - accuracy: 0.9529 - val_loss: 0.9501 - val_accuracy: 0.8140\n",
      "Epoch 15/20\n",
      "16/16 [==============================] - 0s 15ms/step - loss: 0.1422 - accuracy: 0.9543 - val_loss: 0.9711 - val_accuracy: 0.8090\n",
      "Epoch 16/20\n",
      "16/16 [==============================] - 0s 14ms/step - loss: 0.1301 - accuracy: 0.9564 - val_loss: 1.0197 - val_accuracy: 0.8120\n",
      "Epoch 17/20\n",
      "16/16 [==============================] - 0s 14ms/step - loss: 0.1267 - accuracy: 0.9555 - val_loss: 1.0648 - val_accuracy: 0.7910\n",
      "Epoch 18/20\n",
      "16/16 [==============================] - 0s 14ms/step - loss: 0.1201 - accuracy: 0.9579 - val_loss: 1.1295 - val_accuracy: 0.7870\n",
      "Epoch 19/20\n",
      "16/16 [==============================] - 0s 15ms/step - loss: 0.1174 - accuracy: 0.9557 - val_loss: 1.0793 - val_accuracy: 0.7980\n",
      "Epoch 20/20\n",
      "16/16 [==============================] - 0s 14ms/step - loss: 0.1113 - accuracy: 0.9573 - val_loss: 1.1380 - val_accuracy: 0.7910\n"
     ]
    }
   ],
   "source": [
    "history = model.fit(partial_x_train,\n",
    "         partial_y_train,\n",
    "         epochs=20,\n",
    "         batch_size=512,\n",
    "         validation_data=(x_val,y_val))"
   ]
  },
  {
   "cell_type": "markdown",
   "metadata": {},
   "source": [
    "## Plotting the training and validation loss"
   ]
  },
  {
   "cell_type": "code",
   "execution_count": 22,
   "metadata": {},
   "outputs": [],
   "source": [
    "import matplotlib.pyplot as plt"
   ]
  },
  {
   "cell_type": "code",
   "execution_count": 23,
   "metadata": {},
   "outputs": [
    {
     "data": {
      "image/png": "[encoded data removed]",
      "text/plain": [
       "<Figure size 432x288 with 1 Axes>"
      ]
     },
     "metadata": {
      "needs_background": "light"
     },
     "output_type": "display_data"
    }
   ],
   "source": [
    "loss = history.history['loss']\n",
    "val_loss = history.history['val_loss']\n",
    "\n",
    "epochs = range(1, len(loss) + 1)\n",
    "\n",
    "plt.plot(epochs, loss, 'bo', label='Training loss')\n",
    "plt.plot(epochs, val_loss, 'b', label='Validation loss')\n",
    "plt.title('Training and validation loss')\n",
    "plt.xlabel('Epochs')\n",
    "plt.ylabel('Loss')\n",
    "plt.legend()\n",
    "\n",
    "plt.show()"
   ]
  },
  {
   "cell_type": "markdown",
   "metadata": {},
   "source": [
    "## Plotting the training and validation accuracy"
   ]
  },
  {
   "cell_type": "code",
   "execution_count": 24,
   "metadata": {},
   "outputs": [
    {
     "data": {
      "image/png": "[encoded data removed]",
      "text/plain": [
       "<Figure size 432x288 with 1 Axes>"
      ]
     },
     "metadata": {
      "needs_background": "light"
     },
     "output_type": "display_data"
    }
   ],
   "source": [
    "plt.clf()\n",
    "\n",
    "acc = history.history['accuracy']\n",
    "val_acc = history.history['val_accuracy']\n",
    "\n",
    "plt.plot(epochs, acc, 'bo', label='Training acc')\n",
    "plt.plot(epochs, val_acc, 'b', label='Validation acc')\n",
    "plt.title('Training and validation accuracy')\n",
    "plt.xlabel('Epochs')\n",
    "plt.ylabel('Accuracy')\n",
    "plt.legend()\n",
    "\n",
    "plt.show()"
   ]
  },
  {
   "cell_type": "markdown",
   "metadata": {},
   "source": [
    "## Retraining a model from scratch"
   ]
  },
  {
   "cell_type": "code",
   "execution_count": 25,
   "metadata": {},
   "outputs": [
    {
     "name": "stdout",
     "output_type": "stream",
     "text": [
      "Epoch 1/9\n",
      "16/16 [==============================] - 0s 22ms/step - loss: 2.6182 - accuracy: 0.5358 - val_loss: 1.7308 - val_accuracy: 0.6340\n",
      "Epoch 2/9\n",
      "16/16 [==============================] - 0s 19ms/step - loss: 1.4251 - accuracy: 0.7018 - val_loss: 1.3181 - val_accuracy: 0.7120\n",
      "Epoch 3/9\n",
      "16/16 [==============================] - 0s 15ms/step - loss: 1.0666 - accuracy: 0.7722 - val_loss: 1.1496 - val_accuracy: 0.7580\n",
      "Epoch 4/9\n",
      "16/16 [==============================] - 0s 15ms/step - loss: 0.8439 - accuracy: 0.8172 - val_loss: 1.0431 - val_accuracy: 0.7760\n",
      "Epoch 5/9\n",
      "16/16 [==============================] - 0s 16ms/step - loss: 0.6715 - accuracy: 0.8561 - val_loss: 0.9808 - val_accuracy: 0.7920\n",
      "Epoch 6/9\n",
      "16/16 [==============================] - 0s 17ms/step - loss: 0.5395 - accuracy: 0.8860 - val_loss: 0.9282 - val_accuracy: 0.8180\n",
      "Epoch 7/9\n",
      "16/16 [==============================] - 0s 17ms/step - loss: 0.4313 - accuracy: 0.9114 - val_loss: 0.9075 - val_accuracy: 0.8130\n",
      "Epoch 8/9\n",
      "16/16 [==============================] - 0s 14ms/step - loss: 0.3512 - accuracy: 0.9266 - val_loss: 0.8977 - val_accuracy: 0.8220\n",
      "Epoch 9/9\n",
      "16/16 [==============================] - 0s 15ms/step - loss: 0.2896 - accuracy: 0.9386 - val_loss: 0.9089 - val_accuracy: 0.8130\n",
      "71/71 [==============================] - 0s 2ms/step - loss: 0.9904 - accuracy: 0.7827\n"
     ]
    }
   ],
   "source": [
    "model = models.Sequential()\n",
    "model.add(layers.Dense(64, activation='relu', input_shape=(10000,)))\n",
    "model.add(layers.Dense(64, activation='relu'))\n",
    "model.add(layers.Dense(46, activation='softmax'))\n",
    "\n",
    "model.compile(optimizer='rmsprop',\n",
    "              loss='categorical_crossentropy',\n",
    "              metrics=['accuracy'])\n",
    "\n",
    "model.fit(partial_x_train,\n",
    "          partial_y_train,\n",
    "          epochs=9,\n",
    "          batch_size=512,\n",
    "          validation_data=(x_val, y_val))\n",
    "results = model.evaluate(x_test, one_hot_test_labels)"
   ]
  },
  {
   "cell_type": "code",
   "execution_count": 26,
   "metadata": {},
   "outputs": [
    {
     "data": {
      "text/plain": [
       "[0.9904348254203796, 0.7827248573303223]"
      ]
     },
     "execution_count": 26,
     "metadata": {},
     "output_type": "execute_result"
    }
   ],
   "source": [
    "results"
   ]
  },
  {
   "cell_type": "markdown",
   "metadata": {},
   "source": [
    "## Generating predictions on new data"
   ]
  },
  {
   "cell_type": "code",
   "execution_count": 27,
   "metadata": {},
   "outputs": [],
   "source": [
    "predictions = model.predict(x_test)"
   ]
  },
  {
   "cell_type": "code",
   "execution_count": 28,
   "metadata": {},
   "outputs": [
    {
     "data": {
      "text/plain": [
       "(46,)"
      ]
     },
     "execution_count": 28,
     "metadata": {},
     "output_type": "execute_result"
    }
   ],
   "source": [
    "predictions[0].shape"
   ]
  },
  {
   "cell_type": "code",
   "execution_count": 29,
   "metadata": {},
   "outputs": [
    {
     "data": {
      "text/plain": [
       "0.9999998"
      ]
     },
     "execution_count": 29,
     "metadata": {},
     "output_type": "execute_result"
    }
   ],
   "source": [
    "np.sum(predictions[0])"
   ]
  },
  {
   "cell_type": "code",
   "execution_count": 30,
   "metadata": {},
   "outputs": [
    {
     "data": {
      "text/plain": [
       "3"
      ]
     },
     "execution_count": 30,
     "metadata": {},
     "output_type": "execute_result"
    }
   ],
   "source": [
    "np.argmax(predictions[0])"
   ]
  },
  {
   "cell_type": "code",
   "execution_count": 31,
   "metadata": {},
   "outputs": [],
   "source": [
    "y_train = np.array(train_labels)\n",
    "y_test = np.array(test_labels)"
   ]
  },
  {
   "cell_type": "code",
   "execution_count": 32,
   "metadata": {},
   "outputs": [],
   "source": [
    "model.compile(optimizer='rmsprop',\n",
    "             loss='sparse_categorical_crossentropy',\n",
    "             metrics=['acc'])"
   ]
  },
  {
   "cell_type": "markdown",
   "metadata": {},
   "source": [
    "## A model with an information bottleneck"
   ]
  },
  {
   "cell_type": "code",
   "execution_count": 33,
   "metadata": {
    "scrolled": true
   },
   "outputs": [
    {
     "name": "stdout",
     "output_type": "stream",
     "text": [
      "Epoch 1/20\n",
      "63/63 [==============================] - 1s 8ms/step - loss: 2.9467 - accuracy: 0.3317 - val_loss: 2.1690 - val_accuracy: 0.5730\n",
      "Epoch 2/20\n",
      "63/63 [==============================] - 0s 7ms/step - loss: 1.7635 - accuracy: 0.6037 - val_loss: 1.5758 - val_accuracy: 0.6100\n",
      "Epoch 3/20\n",
      "63/63 [==============================] - 0s 7ms/step - loss: 1.4170 - accuracy: 0.6294 - val_loss: 1.4238 - val_accuracy: 0.6320\n",
      "Epoch 4/20\n",
      "63/63 [==============================] - 0s 7ms/step - loss: 1.2113 - accuracy: 0.6903 - val_loss: 1.3281 - val_accuracy: 0.6850\n",
      "Epoch 5/20\n",
      "63/63 [==============================] - 0s 7ms/step - loss: 1.0717 - accuracy: 0.7387 - val_loss: 1.2749 - val_accuracy: 0.7070\n",
      "Epoch 6/20\n",
      "63/63 [==============================] - 0s 7ms/step - loss: 0.9704 - accuracy: 0.7553 - val_loss: 1.2588 - val_accuracy: 0.7170\n",
      "Epoch 7/20\n",
      "63/63 [==============================] - 0s 7ms/step - loss: 0.8918 - accuracy: 0.7695 - val_loss: 1.2598 - val_accuracy: 0.7160\n",
      "Epoch 8/20\n",
      "63/63 [==============================] - 0s 7ms/step - loss: 0.8255 - accuracy: 0.7781 - val_loss: 1.2815 - val_accuracy: 0.7240\n",
      "Epoch 9/20\n",
      "63/63 [==============================] - 0s 7ms/step - loss: 0.7688 - accuracy: 0.7893 - val_loss: 1.3208 - val_accuracy: 0.7220\n",
      "Epoch 10/20\n",
      "63/63 [==============================] - 0s 6ms/step - loss: 0.7204 - accuracy: 0.7973 - val_loss: 1.3169 - val_accuracy: 0.7190\n",
      "Epoch 11/20\n",
      "63/63 [==============================] - 0s 6ms/step - loss: 0.6742 - accuracy: 0.8102 - val_loss: 1.3476 - val_accuracy: 0.7130\n",
      "Epoch 12/20\n",
      "63/63 [==============================] - 0s 7ms/step - loss: 0.6331 - accuracy: 0.8191 - val_loss: 1.3672 - val_accuracy: 0.7150\n",
      "Epoch 13/20\n",
      "63/63 [==============================] - 0s 7ms/step - loss: 0.6002 - accuracy: 0.8271 - val_loss: 1.4294 - val_accuracy: 0.7020\n",
      "Epoch 14/20\n",
      "63/63 [==============================] - 1s 9ms/step - loss: 0.5679 - accuracy: 0.8376 - val_loss: 1.4712 - val_accuracy: 0.7020\n",
      "Epoch 15/20\n",
      "63/63 [==============================] - 1s 13ms/step - loss: 0.5415 - accuracy: 0.8457 - val_loss: 1.4676 - val_accuracy: 0.7040\n",
      "Epoch 16/20\n",
      "63/63 [==============================] - 1s 11ms/step - loss: 0.5162 - accuracy: 0.8480 - val_loss: 1.5227 - val_accuracy: 0.7040\n",
      "Epoch 17/20\n",
      "63/63 [==============================] - 0s 7ms/step - loss: 0.4905 - accuracy: 0.8568 - val_loss: 1.5905 - val_accuracy: 0.7040\n",
      "Epoch 18/20\n",
      "63/63 [==============================] - 1s 10ms/step - loss: 0.4702 - accuracy: 0.8614 - val_loss: 1.6153 - val_accuracy: 0.7000\n",
      "Epoch 19/20\n",
      "63/63 [==============================] - 1s 8ms/step - loss: 0.4517 - accuracy: 0.8718 - val_loss: 1.6808 - val_accuracy: 0.6960\n",
      "Epoch 20/20\n",
      "63/63 [==============================] - 0s 7ms/step - loss: 0.4318 - accuracy: 0.8782 - val_loss: 1.7344 - val_accuracy: 0.6940\n"
     ]
    },
    {
     "data": {
      "text/plain": [
       "<tensorflow.python.keras.callbacks.History at 0x7fd5a8762d30>"
      ]
     },
     "execution_count": 33,
     "metadata": {},
     "output_type": "execute_result"
    }
   ],
   "source": [
    "model = models.Sequential()\n",
    "model.add(layers.Dense(64, activation='relu', input_shape=(10000,)))\n",
    "model.add(layers.Dense(4, activation='relu'))\n",
    "model.add(layers.Dense(46, activation='softmax'))\n",
    "\n",
    "model.compile(optimizer='rmsprop',\n",
    "              loss='categorical_crossentropy',\n",
    "              metrics=['accuracy'])\n",
    "model.fit(partial_x_train,\n",
    "          partial_y_train,\n",
    "          epochs=20,\n",
    "          batch_size=128,\n",
    "          validation_data=(x_val, y_val))"
   ]
  },
  {
   "cell_type": "code",
   "execution_count": null,
   "metadata": {},
   "outputs": [],
   "source": []
  }
 ],
 "metadata": {
  "kernelspec": {
   "display_name": "Python 3",
   "language": "python",
   "name": "python3"
  },
  "language_info": {
   "codemirror_mode": {
    "name": "ipython",
    "version": 3
   },
   "file_extension": ".py",
   "mimetype": "text/x-python",
   "name": "python",
   "nbconvert_exporter": "python",
   "pygments_lexer": "ipython3",
   "version": "3.8.3"
  }
 },
 "nbformat": 4,
 "nbformat_minor": 4
}
